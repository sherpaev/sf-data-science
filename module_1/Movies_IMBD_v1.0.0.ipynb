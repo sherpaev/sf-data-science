{
 "cells": [
  {
   "cell_type": "code",
   "execution_count": 248,
   "metadata": {
    "_cell_guid": "b1076dfc-b9ad-4769-8c92-a6c4dae69d19",
    "_uuid": "8f2839f25d086af736a60e9eeb907d3b93b6e0e5",
    "colab": {},
    "colab_type": "code",
    "id": "U2D2gTdJVp90"
   },
   "outputs": [],
   "source": [
    "import numpy as np\n",
    "import pandas as pd\n",
    "from itertools import combinations\n",
    "from collections import Counter"
   ]
  },
  {
   "cell_type": "code",
   "execution_count": 249,
   "metadata": {
    "_cell_guid": "79c7e3d0-c299-4dcb-8224-4455121ee9b0",
    "_uuid": "d629ff2d2480ee46fbb7e2d37f6b5fab8052498a",
    "colab": {},
    "colab_type": "code",
    "id": "oyGfxL3eVp9-"
   },
   "outputs": [
    {
     "data": {
      "text/plain": "        imdb_id     budget    revenue               original_title  \\\n423   tt1212436   35000000   77477008             The Back-Up Plan   \n1045  tt1568338   42000000   46221189               Man on a Ledge   \n1647  tt0327437  110000000   72178895  Around the World in 80 Days   \n1488  tt0421729   40000000  138259062          Big Momma's House 2   \n419   tt1038919   40000000  136000000            The Bounty Hunter   \n\n                                                   cast        director  \\\n423   Jennifer Lopez|Alex O'Loughlin|Danneel Ackles|...       Alan Poul   \n1045  Sam Worthington|Elizabeth Banks|Jamie Bell|Ed ...      Asger Leth   \n1647  Jackie Chan|Steve Coogan|CÃ©cile De France|Rob...    Frank Coraci   \n1488  Martin Lawrence|Nia Long|Emily Procter|Zachary...  John Whitesell   \n419   Gerard Butler|Jennifer Aniston|Gio Perez|Siobh...    Andy Tennant   \n\n                                                tagline  \\\n423   Fall in love, get married, have a baby. Not ne...   \n1045           You can only push an innocent man so far   \n1647                         Let your imagination soar.   \n1488               The momma of all comedies is back!!!   \n419   It's a Job. It Isn't Personal. Well, Maybe a L...   \n\n                                               overview  runtime  \\\n423   When Zoe tires of looking for Mr. Right, she d...      106   \n1045  An ex-cop turned con threatens to jump to his ...      102   \n1647  A bet pits a British inventor, a Chinese thief...      120   \n1488  FBI agent Malcolm Turner goes back undercover ...       99   \n419   Milo Boyd is a bounty hunter whose latest gig ...      110   \n\n                       genres  \\\n423            Comedy|Romance   \n1045    Action|Thriller|Crime   \n1647  Action|Adventure|Comedy   \n1488             Comedy|Crime   \n419                    Action   \n\n                                   production_companies release_date  \\\n423                            Escape Artists|CBS Films    4/23/2010   \n1045        Summit Entertainment|Di Bonaventura Picture    1/13/2012   \n1647  Studio Babelsberg|Walden Media|Babelsberg Film...    6/16/2004   \n1488  Twentieth Century Fox Film Corporation|Regency...    1/26/2006   \n419   Columbia Pictures|Original Film|Relativity Med...    3/16/2010   \n\n      vote_average  release_year  \n423            5.7          2010  \n1045           6.2          2012  \n1647           5.6          2004  \n1488           5.6          2006  \n419            5.5          2010  ",
      "text/html": "<div>\n<style scoped>\n    .dataframe tbody tr th:only-of-type {\n        vertical-align: middle;\n    }\n\n    .dataframe tbody tr th {\n        vertical-align: top;\n    }\n\n    .dataframe thead th {\n        text-align: right;\n    }\n</style>\n<table border=\"1\" class=\"dataframe\">\n  <thead>\n    <tr style=\"text-align: right;\">\n      <th></th>\n      <th>imdb_id</th>\n      <th>budget</th>\n      <th>revenue</th>\n      <th>original_title</th>\n      <th>cast</th>\n      <th>director</th>\n      <th>tagline</th>\n      <th>overview</th>\n      <th>runtime</th>\n      <th>genres</th>\n      <th>production_companies</th>\n      <th>release_date</th>\n      <th>vote_average</th>\n      <th>release_year</th>\n    </tr>\n  </thead>\n  <tbody>\n    <tr>\n      <th>423</th>\n      <td>tt1212436</td>\n      <td>35000000</td>\n      <td>77477008</td>\n      <td>The Back-Up Plan</td>\n      <td>Jennifer Lopez|Alex O'Loughlin|Danneel Ackles|...</td>\n      <td>Alan Poul</td>\n      <td>Fall in love, get married, have a baby. Not ne...</td>\n      <td>When Zoe tires of looking for Mr. Right, she d...</td>\n      <td>106</td>\n      <td>Comedy|Romance</td>\n      <td>Escape Artists|CBS Films</td>\n      <td>4/23/2010</td>\n      <td>5.7</td>\n      <td>2010</td>\n    </tr>\n    <tr>\n      <th>1045</th>\n      <td>tt1568338</td>\n      <td>42000000</td>\n      <td>46221189</td>\n      <td>Man on a Ledge</td>\n      <td>Sam Worthington|Elizabeth Banks|Jamie Bell|Ed ...</td>\n      <td>Asger Leth</td>\n      <td>You can only push an innocent man so far</td>\n      <td>An ex-cop turned con threatens to jump to his ...</td>\n      <td>102</td>\n      <td>Action|Thriller|Crime</td>\n      <td>Summit Entertainment|Di Bonaventura Picture</td>\n      <td>1/13/2012</td>\n      <td>6.2</td>\n      <td>2012</td>\n    </tr>\n    <tr>\n      <th>1647</th>\n      <td>tt0327437</td>\n      <td>110000000</td>\n      <td>72178895</td>\n      <td>Around the World in 80 Days</td>\n      <td>Jackie Chan|Steve Coogan|CÃ©cile De France|Rob...</td>\n      <td>Frank Coraci</td>\n      <td>Let your imagination soar.</td>\n      <td>A bet pits a British inventor, a Chinese thief...</td>\n      <td>120</td>\n      <td>Action|Adventure|Comedy</td>\n      <td>Studio Babelsberg|Walden Media|Babelsberg Film...</td>\n      <td>6/16/2004</td>\n      <td>5.6</td>\n      <td>2004</td>\n    </tr>\n    <tr>\n      <th>1488</th>\n      <td>tt0421729</td>\n      <td>40000000</td>\n      <td>138259062</td>\n      <td>Big Momma's House 2</td>\n      <td>Martin Lawrence|Nia Long|Emily Procter|Zachary...</td>\n      <td>John Whitesell</td>\n      <td>The momma of all comedies is back!!!</td>\n      <td>FBI agent Malcolm Turner goes back undercover ...</td>\n      <td>99</td>\n      <td>Comedy|Crime</td>\n      <td>Twentieth Century Fox Film Corporation|Regency...</td>\n      <td>1/26/2006</td>\n      <td>5.6</td>\n      <td>2006</td>\n    </tr>\n    <tr>\n      <th>419</th>\n      <td>tt1038919</td>\n      <td>40000000</td>\n      <td>136000000</td>\n      <td>The Bounty Hunter</td>\n      <td>Gerard Butler|Jennifer Aniston|Gio Perez|Siobh...</td>\n      <td>Andy Tennant</td>\n      <td>It's a Job. It Isn't Personal. Well, Maybe a L...</td>\n      <td>Milo Boyd is a bounty hunter whose latest gig ...</td>\n      <td>110</td>\n      <td>Action</td>\n      <td>Columbia Pictures|Original Film|Relativity Med...</td>\n      <td>3/16/2010</td>\n      <td>5.5</td>\n      <td>2010</td>\n    </tr>\n  </tbody>\n</table>\n</div>"
     },
     "execution_count": 249,
     "metadata": {},
     "output_type": "execute_result"
    }
   ],
   "source": [
    "df = pd.read_csv('movie_bd_v5.csv')\n",
    "df.sample(5)"
   ]
  },
  {
   "cell_type": "code",
   "execution_count": 250,
   "metadata": {
    "colab": {},
    "colab_type": "code",
    "id": "CoYUnagMVp-C"
   },
   "outputs": [
    {
     "data": {
      "text/plain": "             budget       revenue      runtime  vote_average  release_year\ncount  1.889000e+03  1.889000e+03  1889.000000   1889.000000   1889.000000\nmean   5.431083e+07  1.553653e+08   109.658549      6.140762   2007.860773\nstd    4.858721e+07  2.146698e+08    18.017041      0.764763      4.468841\nmin    5.000000e+06  2.033165e+06    63.000000      3.300000   2000.000000\n25%    2.000000e+07  3.456058e+07    97.000000      5.600000   2004.000000\n50%    3.800000e+07  8.361541e+07   107.000000      6.100000   2008.000000\n75%    7.200000e+07  1.782626e+08   120.000000      6.600000   2012.000000\nmax    3.800000e+08  2.781506e+09   214.000000      8.100000   2015.000000",
      "text/html": "<div>\n<style scoped>\n    .dataframe tbody tr th:only-of-type {\n        vertical-align: middle;\n    }\n\n    .dataframe tbody tr th {\n        vertical-align: top;\n    }\n\n    .dataframe thead th {\n        text-align: right;\n    }\n</style>\n<table border=\"1\" class=\"dataframe\">\n  <thead>\n    <tr style=\"text-align: right;\">\n      <th></th>\n      <th>budget</th>\n      <th>revenue</th>\n      <th>runtime</th>\n      <th>vote_average</th>\n      <th>release_year</th>\n    </tr>\n  </thead>\n  <tbody>\n    <tr>\n      <th>count</th>\n      <td>1.889000e+03</td>\n      <td>1.889000e+03</td>\n      <td>1889.000000</td>\n      <td>1889.000000</td>\n      <td>1889.000000</td>\n    </tr>\n    <tr>\n      <th>mean</th>\n      <td>5.431083e+07</td>\n      <td>1.553653e+08</td>\n      <td>109.658549</td>\n      <td>6.140762</td>\n      <td>2007.860773</td>\n    </tr>\n    <tr>\n      <th>std</th>\n      <td>4.858721e+07</td>\n      <td>2.146698e+08</td>\n      <td>18.017041</td>\n      <td>0.764763</td>\n      <td>4.468841</td>\n    </tr>\n    <tr>\n      <th>min</th>\n      <td>5.000000e+06</td>\n      <td>2.033165e+06</td>\n      <td>63.000000</td>\n      <td>3.300000</td>\n      <td>2000.000000</td>\n    </tr>\n    <tr>\n      <th>25%</th>\n      <td>2.000000e+07</td>\n      <td>3.456058e+07</td>\n      <td>97.000000</td>\n      <td>5.600000</td>\n      <td>2004.000000</td>\n    </tr>\n    <tr>\n      <th>50%</th>\n      <td>3.800000e+07</td>\n      <td>8.361541e+07</td>\n      <td>107.000000</td>\n      <td>6.100000</td>\n      <td>2008.000000</td>\n    </tr>\n    <tr>\n      <th>75%</th>\n      <td>7.200000e+07</td>\n      <td>1.782626e+08</td>\n      <td>120.000000</td>\n      <td>6.600000</td>\n      <td>2012.000000</td>\n    </tr>\n    <tr>\n      <th>max</th>\n      <td>3.800000e+08</td>\n      <td>2.781506e+09</td>\n      <td>214.000000</td>\n      <td>8.100000</td>\n      <td>2015.000000</td>\n    </tr>\n  </tbody>\n</table>\n</div>"
     },
     "execution_count": 250,
     "metadata": {},
     "output_type": "execute_result"
    }
   ],
   "source": [
    "df.describe()"
   ]
  },
  {
   "cell_type": "markdown",
   "metadata": {
    "colab_type": "text",
    "id": "DTIt7ezGVp-G"
   },
   "source": [
    "# Предобработка"
   ]
  },
  {
   "cell_type": "code",
   "execution_count": 251,
   "metadata": {
    "colab": {},
    "colab_type": "code",
    "id": "jNb40DwKVp-H"
   },
   "outputs": [
    {
     "data": {
      "text/plain": "        imdb_id    budget    revenue   original_title  \\\n1623  tt0375173  60000000   13395939            Alfie   \n1238  tt1245492  32000000  126041322  This Is the End   \n694   tt1031969  15000000    8762890       The Rocker   \n1490  tt0424345   5000000   26888376        Clerks II   \n75    tt4178092   5000000   58978653         The Gift   \n\n                                                   cast  \\\n1623  Jude Law|Marisa Tomei|Omar Epps|Jane Krakowski...   \n1238  James Franco|Jonah Hill|Seth Rogen|Jay Baruche...   \n694   Rainn Wilson|Josh Gad|Christina Applegate|Emma...   \n1490  Brian O'Halloran|Jeff Anderson|Jason Mewes|Kev...   \n75    Jason Bateman|Rebecca Hall|Joel Edgerton|David...   \n\n                      director  \\\n1623             Charles Shyer   \n1238  Seth Rogen|Evan Goldberg   \n694             Peter Cattaneo   \n1490               Kevin Smith   \n75               Joel Edgerton   \n\n                                               tagline  \\\n1623  Meet a man who never met a woman he didn't love.   \n1238  Nothing ruins a party like the end of the world.   \n694                                 Opportunity rocks.   \n1490             With No Power Comes No Responsibility   \n75                          Not every gift is welcome.   \n\n                                               overview  runtime  \\\n1623  In Manhattan, the British limousine driver Alf...      103   \n1238  While attending a party at James Franco's hous...      107   \n694   Rob \"Fish\" Fishman is the drummer in '80s hair...      102   \n1490  A calamity at Dante and Randall's shops sends ...       97   \n75    A husband and wife try to reinvigorate their r...      108   \n\n                genres  ... original_title_len    profit         genres_split  \\\n1623            Comedy  ...                  5 -46604061             [Comedy]   \n1238     Action|Comedy  ...                 15  94041322     [Action, Comedy]   \n694       Comedy|Music  ...                 10  -6237110      [Comedy, Music]   \n1490            Comedy  ...                  9  21888376             [Comedy]   \n75    Thriller|Mystery  ...                  8  53978653  [Thriller, Mystery]   \n\n                   director_split  \\\n1623              [Charles Shyer]   \n1238  [Seth Rogen, Evan Goldberg]   \n694              [Peter Cattaneo]   \n1490                [Kevin Smith]   \n75                [Joel Edgerton]   \n\n                                             cast_split  \\\n1623  [Jane Krakowski, Jude Law, Marisa Tomei, Omar ...   \n1238  [Danny McBride, James Franco, Jay Baruchel, Jo...   \n694   [Christina Applegate, Emma Stone, Josh Gad, Ra...   \n1490  [Brian O'Halloran, Jason Mewes, Jeff Anderson,...   \n75    [Beau Knapp, David Denman, Jason Bateman, Joel...   \n\n                                cast_split_combinations  \\\n1623  [(Jane Krakowski, Jude Law), (Jane Krakowski, ...   \n1238  [(Danny McBride, James Franco), (Danny McBride...   \n694   [(Christina Applegate, Emma Stone), (Christina...   \n1490  [(Brian O'Halloran, Jason Mewes), (Brian O'Hal...   \n75    [(Beau Knapp, David Denman), (Beau Knapp, Jaso...   \n\n                                   prod_companies_split release_month  \\\n1623          [Paramount Pictures, Patalex Productions]            10   \n1238  [Columbia Pictures, Mandate Pictures, Sony Pic...             6   \n694                                        [Fox Atomic]             8   \n1490    [The Weinstein Company, View Askew Productions]             5   \n75    [Blumhouse Productions, Blue-Tongue Films, STX...             7   \n\n     release_season overview_words_count  \n1623           fall                   57  \n1238         summer                   21  \n694          summer                   43  \n1490         spring                   25  \n75           summer                   34  \n\n[5 rows x 25 columns]",
      "text/html": "<div>\n<style scoped>\n    .dataframe tbody tr th:only-of-type {\n        vertical-align: middle;\n    }\n\n    .dataframe tbody tr th {\n        vertical-align: top;\n    }\n\n    .dataframe thead th {\n        text-align: right;\n    }\n</style>\n<table border=\"1\" class=\"dataframe\">\n  <thead>\n    <tr style=\"text-align: right;\">\n      <th></th>\n      <th>imdb_id</th>\n      <th>budget</th>\n      <th>revenue</th>\n      <th>original_title</th>\n      <th>cast</th>\n      <th>director</th>\n      <th>tagline</th>\n      <th>overview</th>\n      <th>runtime</th>\n      <th>genres</th>\n      <th>...</th>\n      <th>original_title_len</th>\n      <th>profit</th>\n      <th>genres_split</th>\n      <th>director_split</th>\n      <th>cast_split</th>\n      <th>cast_split_combinations</th>\n      <th>prod_companies_split</th>\n      <th>release_month</th>\n      <th>release_season</th>\n      <th>overview_words_count</th>\n    </tr>\n  </thead>\n  <tbody>\n    <tr>\n      <th>1623</th>\n      <td>tt0375173</td>\n      <td>60000000</td>\n      <td>13395939</td>\n      <td>Alfie</td>\n      <td>Jude Law|Marisa Tomei|Omar Epps|Jane Krakowski...</td>\n      <td>Charles Shyer</td>\n      <td>Meet a man who never met a woman he didn't love.</td>\n      <td>In Manhattan, the British limousine driver Alf...</td>\n      <td>103</td>\n      <td>Comedy</td>\n      <td>...</td>\n      <td>5</td>\n      <td>-46604061</td>\n      <td>[Comedy]</td>\n      <td>[Charles Shyer]</td>\n      <td>[Jane Krakowski, Jude Law, Marisa Tomei, Omar ...</td>\n      <td>[(Jane Krakowski, Jude Law), (Jane Krakowski, ...</td>\n      <td>[Paramount Pictures, Patalex Productions]</td>\n      <td>10</td>\n      <td>fall</td>\n      <td>57</td>\n    </tr>\n    <tr>\n      <th>1238</th>\n      <td>tt1245492</td>\n      <td>32000000</td>\n      <td>126041322</td>\n      <td>This Is the End</td>\n      <td>James Franco|Jonah Hill|Seth Rogen|Jay Baruche...</td>\n      <td>Seth Rogen|Evan Goldberg</td>\n      <td>Nothing ruins a party like the end of the world.</td>\n      <td>While attending a party at James Franco's hous...</td>\n      <td>107</td>\n      <td>Action|Comedy</td>\n      <td>...</td>\n      <td>15</td>\n      <td>94041322</td>\n      <td>[Action, Comedy]</td>\n      <td>[Seth Rogen, Evan Goldberg]</td>\n      <td>[Danny McBride, James Franco, Jay Baruchel, Jo...</td>\n      <td>[(Danny McBride, James Franco), (Danny McBride...</td>\n      <td>[Columbia Pictures, Mandate Pictures, Sony Pic...</td>\n      <td>6</td>\n      <td>summer</td>\n      <td>21</td>\n    </tr>\n    <tr>\n      <th>694</th>\n      <td>tt1031969</td>\n      <td>15000000</td>\n      <td>8762890</td>\n      <td>The Rocker</td>\n      <td>Rainn Wilson|Josh Gad|Christina Applegate|Emma...</td>\n      <td>Peter Cattaneo</td>\n      <td>Opportunity rocks.</td>\n      <td>Rob \"Fish\" Fishman is the drummer in '80s hair...</td>\n      <td>102</td>\n      <td>Comedy|Music</td>\n      <td>...</td>\n      <td>10</td>\n      <td>-6237110</td>\n      <td>[Comedy, Music]</td>\n      <td>[Peter Cattaneo]</td>\n      <td>[Christina Applegate, Emma Stone, Josh Gad, Ra...</td>\n      <td>[(Christina Applegate, Emma Stone), (Christina...</td>\n      <td>[Fox Atomic]</td>\n      <td>8</td>\n      <td>summer</td>\n      <td>43</td>\n    </tr>\n    <tr>\n      <th>1490</th>\n      <td>tt0424345</td>\n      <td>5000000</td>\n      <td>26888376</td>\n      <td>Clerks II</td>\n      <td>Brian O'Halloran|Jeff Anderson|Jason Mewes|Kev...</td>\n      <td>Kevin Smith</td>\n      <td>With No Power Comes No Responsibility</td>\n      <td>A calamity at Dante and Randall's shops sends ...</td>\n      <td>97</td>\n      <td>Comedy</td>\n      <td>...</td>\n      <td>9</td>\n      <td>21888376</td>\n      <td>[Comedy]</td>\n      <td>[Kevin Smith]</td>\n      <td>[Brian O'Halloran, Jason Mewes, Jeff Anderson,...</td>\n      <td>[(Brian O'Halloran, Jason Mewes), (Brian O'Hal...</td>\n      <td>[The Weinstein Company, View Askew Productions]</td>\n      <td>5</td>\n      <td>spring</td>\n      <td>25</td>\n    </tr>\n    <tr>\n      <th>75</th>\n      <td>tt4178092</td>\n      <td>5000000</td>\n      <td>58978653</td>\n      <td>The Gift</td>\n      <td>Jason Bateman|Rebecca Hall|Joel Edgerton|David...</td>\n      <td>Joel Edgerton</td>\n      <td>Not every gift is welcome.</td>\n      <td>A husband and wife try to reinvigorate their r...</td>\n      <td>108</td>\n      <td>Thriller|Mystery</td>\n      <td>...</td>\n      <td>8</td>\n      <td>53978653</td>\n      <td>[Thriller, Mystery]</td>\n      <td>[Joel Edgerton]</td>\n      <td>[Beau Knapp, David Denman, Jason Bateman, Joel...</td>\n      <td>[(Beau Knapp, David Denman), (Beau Knapp, Jaso...</td>\n      <td>[Blumhouse Productions, Blue-Tongue Films, STX...</td>\n      <td>7</td>\n      <td>summer</td>\n      <td>34</td>\n    </tr>\n  </tbody>\n</table>\n<p>5 rows × 25 columns</p>\n</div>"
     },
     "execution_count": 251,
     "metadata": {},
     "output_type": "execute_result"
    }
   ],
   "source": [
    "answers = {}\n",
    "\n",
    "\n",
    "# some questions required season grouping\n",
    "def get_season_by_month(month):\n",
    "    if month in [12, 1, 2]:\n",
    "        return 'winter'\n",
    "    if month in [3, 4, 5]:\n",
    "        return 'spring'\n",
    "    if month in [6, 7, 8]:\n",
    "        return 'summer'\n",
    "    if month in [9, 10, 11]:\n",
    "        return 'fall'\n",
    "    raise RuntimeError('invalid month provided: ' + month)\n",
    "\n",
    "\n",
    "# to group by actor combinations we need to split cast list and sort it\n",
    "def split_sorted(string):\n",
    "    result = string.split('|')\n",
    "    result.sort()\n",
    "    return result\n",
    "\n",
    "\n",
    "df['full_title'] = df['original_title'] + ' (' + df['imdb_id'] + ')'\n",
    "df['original_title_len'] = df['original_title'].apply(lambda s: len(s))\n",
    "# profit = revenue - budget\n",
    "df['profit'] = df['revenue'] - df['budget']\n",
    "df['genres_split'] = df['genres'].apply(lambda x: x.split('|'))\n",
    "df['director_split'] = df['director'].apply(lambda x: x.split('|'))\n",
    "# use split_sorted in order to make actors combinations similar\n",
    "df['cast_split'] = df['cast'].apply(split_sorted)\n",
    "df['cast_split_combinations'] = df['cast_split'].apply(lambda x: list(combinations(x, 2)))\n",
    "df['prod_companies_split'] = df['production_companies'].apply(lambda x: x.split('|'))\n",
    "df['release_month'] = df['release_date'].apply(lambda x: int(x.split('/')[0]))\n",
    "df['release_season'] = df['release_month'].apply(get_season_by_month)\n",
    "df['overview_words_count'] = df['overview'].apply(lambda s: len(s.split()))\n",
    "\n",
    "df.sample(5)"
   ]
  },
  {
   "cell_type": "code",
   "execution_count": 252,
   "metadata": {},
   "outputs": [],
   "source": [
    "genres_split_df = df.explode('genres_split')\n",
    "prod_companies_split_df = df.explode('prod_companies_split')\n",
    "director_split_df = df.explode('director_split')\n",
    "director_genres_split_df = director_split_df.explode('genres_split')\n",
    "cast_split_df = df.explode('cast_split')\n",
    "cast_genres_split_df = cast_split_df.explode('genres_split')\n",
    "cast_split_combinations_df = df.explode('cast_split_combinations')"
   ]
  },
  {
   "cell_type": "markdown",
   "metadata": {
    "colab_type": "text",
    "id": "YxZaH-nPVp-L"
   },
   "source": [
    "# 1. У какого фильма из списка самый большой бюджет?"
   ]
  },
  {
   "cell_type": "markdown",
   "metadata": {
    "colab_type": "text",
    "id": "Nd-G5gX6Vp-M"
   },
   "source": [
    "Использовать варианты ответов в коде решения запрещено.    \n",
    "Вы думаете и в жизни у вас будут варианты ответов?)"
   ]
  },
  {
   "cell_type": "code",
   "execution_count": 253,
   "metadata": {
    "colab": {},
    "colab_type": "code",
    "id": "uVnXAY5RVp-O"
   },
   "outputs": [],
   "source": [
    "answers['1'] = 'Pirates of the Caribbean: On Stranger Tides (tt1298650)'"
   ]
  },
  {
   "cell_type": "code",
   "execution_count": 254,
   "metadata": {},
   "outputs": [
    {
     "data": {
      "text/plain": "'Pirates of the Caribbean: On Stranger Tides (tt1298650)'"
     },
     "execution_count": 254,
     "metadata": {},
     "output_type": "execute_result"
    }
   ],
   "source": [
    "df[df['budget'] == max(df['budget'])]['full_title'].iloc[0]"
   ]
  },
  {
   "cell_type": "markdown",
   "metadata": {
    "colab_type": "text",
    "id": "FNRbbI3vVp-c"
   },
   "source": [
    "# 2. Какой из фильмов самый длительный (в минутах)?"
   ]
  },
  {
   "cell_type": "code",
   "execution_count": 255,
   "metadata": {
    "colab": {},
    "colab_type": "code",
    "id": "vHAoEXNTVp-d"
   },
   "outputs": [],
   "source": [
    "answers['2'] = 'Gods and Generals (tt0279111)'"
   ]
  },
  {
   "cell_type": "code",
   "execution_count": 256,
   "metadata": {
    "colab": {},
    "colab_type": "code",
    "id": "ot-VX2XrVp-g"
   },
   "outputs": [
    {
     "data": {
      "text/plain": "'Gods and Generals (tt0279111)'"
     },
     "execution_count": 256,
     "metadata": {},
     "output_type": "execute_result"
    }
   ],
   "source": [
    "df[df['runtime'] == max(df['runtime'])]['full_title'].iloc[0]"
   ]
  },
  {
   "cell_type": "markdown",
   "metadata": {
    "colab_type": "text",
    "id": "bapLlpW8Vp-k"
   },
   "source": [
    "# 3. Какой из фильмов самый короткий (в минутах)?"
   ]
  },
  {
   "cell_type": "code",
   "execution_count": 257,
   "metadata": {
    "colab": {},
    "colab_type": "code",
    "id": "YBxaSHuAVp-l"
   },
   "outputs": [],
   "source": [
    "answers['3'] = 'Winnie the Pooh (tt1449283)'"
   ]
  },
  {
   "cell_type": "code",
   "execution_count": 258,
   "metadata": {},
   "outputs": [
    {
     "data": {
      "text/plain": "'Winnie the Pooh (tt1449283)'"
     },
     "execution_count": 258,
     "metadata": {},
     "output_type": "execute_result"
    }
   ],
   "source": [
    "df[df['runtime'] == min(df['runtime'])]['full_title'].iloc[0]"
   ]
  },
  {
   "cell_type": "markdown",
   "metadata": {
    "colab_type": "text",
    "id": "TfQbxbfNVp-p"
   },
   "source": [
    "# 4. Какова средняя длительность фильмов?"
   ]
  },
  {
   "cell_type": "code",
   "execution_count": 259,
   "metadata": {
    "colab": {},
    "colab_type": "code",
    "id": "5K6dKZYVVp-q"
   },
   "outputs": [],
   "source": [
    "answers['4'] = 110"
   ]
  },
  {
   "cell_type": "code",
   "execution_count": 260,
   "metadata": {},
   "outputs": [
    {
     "data": {
      "text/plain": "109.6585494970884"
     },
     "execution_count": 260,
     "metadata": {},
     "output_type": "execute_result"
    }
   ],
   "source": [
    "np.mean(df['runtime'])"
   ]
  },
  {
   "cell_type": "markdown",
   "metadata": {
    "colab_type": "text",
    "id": "r5TvbnT_Vp-u"
   },
   "source": [
    "# 5. Каково медианное значение длительности фильмов? "
   ]
  },
  {
   "cell_type": "code",
   "execution_count": 261,
   "metadata": {
    "colab": {},
    "colab_type": "code",
    "id": "iBROplKnVp-v"
   },
   "outputs": [],
   "source": [
    "answers['5'] = 107.0"
   ]
  },
  {
   "cell_type": "code",
   "execution_count": 262,
   "metadata": {},
   "outputs": [
    {
     "data": {
      "text/plain": "107.0"
     },
     "execution_count": 262,
     "metadata": {},
     "output_type": "execute_result"
    }
   ],
   "source": [
    "np.median(df['runtime'])"
   ]
  },
  {
   "cell_type": "markdown",
   "metadata": {
    "colab_type": "text",
    "id": "39P-deDSVp-y"
   },
   "source": [
    "# 6. Какой самый прибыльный фильм?\n",
    "#### Внимание! Здесь и далее под «прибылью» или «убытками» понимается разность между сборами и бюджетом фильма. (прибыль = сборы - бюджет) в нашем датасете это будет (profit = revenue - budget) "
   ]
  },
  {
   "cell_type": "code",
   "execution_count": 263,
   "metadata": {
    "colab": {},
    "colab_type": "code",
    "id": "UYZh4T9WVp-y"
   },
   "outputs": [],
   "source": [
    "answers['6'] = 'Avatar (tt0499549)'"
   ]
  },
  {
   "cell_type": "code",
   "execution_count": 264,
   "metadata": {},
   "outputs": [
    {
     "data": {
      "text/plain": "'Avatar (tt0499549)'"
     },
     "execution_count": 264,
     "metadata": {},
     "output_type": "execute_result"
    }
   ],
   "source": [
    "df[df['profit'] == max(df['profit'])]['full_title'].iloc[0]"
   ]
  },
  {
   "cell_type": "markdown",
   "metadata": {
    "colab_type": "text",
    "id": "M99JmIX4Vp-2"
   },
   "source": [
    "# 7. Какой фильм самый убыточный? "
   ]
  },
  {
   "cell_type": "code",
   "execution_count": 265,
   "metadata": {
    "colab": {},
    "colab_type": "code",
    "id": "w-D2m4XPVp-3"
   },
   "outputs": [],
   "source": [
    "answers['7'] = 'The Lone Ranger (tt1210819)'"
   ]
  },
  {
   "cell_type": "code",
   "execution_count": 266,
   "metadata": {},
   "outputs": [
    {
     "data": {
      "text/plain": "'The Lone Ranger (tt1210819)'"
     },
     "execution_count": 266,
     "metadata": {},
     "output_type": "execute_result"
    }
   ],
   "source": [
    "df[df['profit'] == min(df['profit'])]['full_title'].iloc[0]"
   ]
  },
  {
   "cell_type": "markdown",
   "metadata": {
    "colab_type": "text",
    "id": "wEOM5ERVVp-6"
   },
   "source": [
    "# 8. У скольких фильмов из датасета объем сборов оказался выше бюджета?"
   ]
  },
  {
   "cell_type": "code",
   "execution_count": 267,
   "metadata": {
    "colab": {},
    "colab_type": "code",
    "id": "y00_7HD6Vp-7"
   },
   "outputs": [],
   "source": [
    "answers['8'] = 1478"
   ]
  },
  {
   "cell_type": "code",
   "execution_count": 268,
   "metadata": {},
   "outputs": [
    {
     "data": {
      "text/plain": "1478"
     },
     "execution_count": 268,
     "metadata": {},
     "output_type": "execute_result"
    }
   ],
   "source": [
    "len(df[df['revenue'] > df['budget']])"
   ]
  },
  {
   "cell_type": "markdown",
   "metadata": {
    "colab_type": "text",
    "id": "xhpspA9KVp_A"
   },
   "source": [
    "# 9. Какой фильм оказался самым кассовым в 2008 году?"
   ]
  },
  {
   "cell_type": "code",
   "execution_count": 269,
   "metadata": {
    "colab": {},
    "colab_type": "code",
    "id": "MoUyQr9RVp_B"
   },
   "outputs": [],
   "source": [
    "answers['9'] = 'The Dark Knight (tt0468569)'"
   ]
  },
  {
   "cell_type": "code",
   "execution_count": 270,
   "metadata": {},
   "outputs": [
    {
     "data": {
      "text/plain": "'The Dark Knight (tt0468569)'"
     },
     "execution_count": 270,
     "metadata": {},
     "output_type": "execute_result"
    }
   ],
   "source": [
    "release_2008_df = df[(df['release_year'] == 2008)]\n",
    "release_2008_max_profit_df = release_2008_df[release_2008_df['profit'] == max(release_2008_df['profit'])]\n",
    "release_2008_max_profit_df['full_title'].iloc[0]"
   ]
  },
  {
   "cell_type": "markdown",
   "metadata": {
    "colab_type": "text",
    "id": "Zi4hDKidVp_F"
   },
   "source": [
    "# 10. Самый убыточный фильм за период с 2012 по 2014 г. (включительно)?\n"
   ]
  },
  {
   "cell_type": "code",
   "execution_count": 271,
   "metadata": {
    "colab": {},
    "colab_type": "code",
    "id": "XqyRmufJVp_F"
   },
   "outputs": [],
   "source": [
    "answers['10'] = 'The Lone Ranger (tt1210819)'"
   ]
  },
  {
   "cell_type": "code",
   "execution_count": 272,
   "metadata": {},
   "outputs": [
    {
     "data": {
      "text/plain": "'The Lone Ranger (tt1210819)'"
     },
     "execution_count": 272,
     "metadata": {},
     "output_type": "execute_result"
    }
   ],
   "source": [
    "release_2012_2014_df = df[(df['release_year'] >= 2012) & (df['release_year'] <= 2014)]\n",
    "min_profit_df = release_2012_2014_df[release_2012_2014_df['profit'] == min(release_2012_2014_df['profit'])]\n",
    "min_profit_df['full_title'].iloc[0]"
   ]
  },
  {
   "cell_type": "markdown",
   "metadata": {
    "colab_type": "text",
    "id": "EA7Sa9dkVp_I"
   },
   "source": [
    "# 11. Какого жанра фильмов больше всего?"
   ]
  },
  {
   "cell_type": "code",
   "execution_count": 273,
   "metadata": {
    "colab": {},
    "colab_type": "code",
    "id": "zsJAwJ8QVp_J"
   },
   "outputs": [],
   "source": [
    "answers['11'] = 'Drama'"
   ]
  },
  {
   "cell_type": "markdown",
   "metadata": {
    "colab_type": "text",
    "id": "Ax6g2C8SVp_M"
   },
   "source": [
    "ВАРИАНТ 1"
   ]
  },
  {
   "cell_type": "code",
   "execution_count": 274,
   "metadata": {},
   "outputs": [
    {
     "data": {
      "text/plain": "'Drama'"
     },
     "execution_count": 274,
     "metadata": {},
     "output_type": "execute_result"
    }
   ],
   "source": [
    "Counter(df['genres'].str.cat(sep='|').split('|')).most_common()[0][0]"
   ]
  },
  {
   "cell_type": "markdown",
   "metadata": {
    "colab_type": "text",
    "id": "Ax6g2C8SVp_M"
   },
   "source": [
    "ВАРИАНТ 2"
   ]
  },
  {
   "cell_type": "code",
   "execution_count": 275,
   "metadata": {
    "colab": {},
    "colab_type": "code",
    "id": "otO3SbrSVp_N"
   },
   "outputs": [
    {
     "data": {
      "text/plain": "'Drama'"
     },
     "execution_count": 275,
     "metadata": {},
     "output_type": "execute_result"
    }
   ],
   "source": [
    "Counter(genres_split_df['genres_split']).most_common()[0][0]"
   ]
  },
  {
   "cell_type": "markdown",
   "metadata": {
    "colab_type": "text",
    "id": "T9_bPWpkVp_Q"
   },
   "source": [
    "# 12. Фильмы какого жанра чаще всего становятся прибыльными? "
   ]
  },
  {
   "cell_type": "code",
   "execution_count": 276,
   "metadata": {
    "colab": {},
    "colab_type": "code",
    "id": "Tmt8MaK1Vp_R"
   },
   "outputs": [],
   "source": [
    "answers['12'] = 'Drama'"
   ]
  },
  {
   "cell_type": "markdown",
   "metadata": {
    "colab_type": "text",
    "id": "Ax6g2C8SVp_M"
   },
   "source": [
    "ВАРИАНТ 1"
   ]
  },
  {
   "cell_type": "code",
   "execution_count": 277,
   "metadata": {},
   "outputs": [
    {
     "data": {
      "text/plain": "'Drama'"
     },
     "execution_count": 277,
     "metadata": {},
     "output_type": "execute_result"
    }
   ],
   "source": [
    "profitable_df = df[df['profit'] > 0]\n",
    "Counter(profitable_df['genres'].str.cat(sep='|').split('|')).most_common()[0][0]"
   ]
  },
  {
   "cell_type": "markdown",
   "metadata": {
    "colab_type": "text",
    "id": "Ax6g2C8SVp_M"
   },
   "source": [
    "ВАРИАНТ 2"
   ]
  },
  {
   "cell_type": "code",
   "execution_count": 278,
   "metadata": {},
   "outputs": [
    {
     "data": {
      "text/plain": "'Drama'"
     },
     "execution_count": 278,
     "metadata": {},
     "output_type": "execute_result"
    }
   ],
   "source": [
    "profitable_df = genres_split_df[genres_split_df['profit'] > 0]\n",
    "Counter(profitable_df['genres_split']).most_common()[0][0]"
   ]
  },
  {
   "cell_type": "markdown",
   "metadata": {
    "colab_type": "text",
    "id": "0F23bgsDVp_U"
   },
   "source": [
    "# 13. У какого режиссера самые большие суммарные кассовые сборы?"
   ]
  },
  {
   "cell_type": "code",
   "execution_count": 279,
   "metadata": {
    "colab": {},
    "colab_type": "code",
    "id": "Tmt8MaK1Vp_R"
   },
   "outputs": [],
   "source": [
    "answers['13'] = 'Peter Jackson'"
   ]
  },
  {
   "cell_type": "code",
   "execution_count": 280,
   "metadata": {},
   "outputs": [
    {
     "data": {
      "text/plain": "'Peter Jackson'"
     },
     "execution_count": 280,
     "metadata": {},
     "output_type": "execute_result"
    }
   ],
   "source": [
    "revenue_df = director_split_df.groupby('director_split')['revenue']\n",
    "revenue_df.apply(sum).sort_values(ascending=False).keys()[0]"
   ]
  },
  {
   "cell_type": "markdown",
   "metadata": {
    "colab_type": "text",
    "id": "PsYC9FgRVp_a"
   },
   "source": [
    "# 14. Какой режиссер снял больше всего фильмов в стиле Action?"
   ]
  },
  {
   "cell_type": "code",
   "execution_count": 281,
   "metadata": {
    "colab": {},
    "colab_type": "code",
    "id": "wd2M-wHeVp_b"
   },
   "outputs": [],
   "source": [
    "answers['14'] = 'Robert Rodriguez'"
   ]
  },
  {
   "cell_type": "code",
   "execution_count": 282,
   "metadata": {},
   "outputs": [
    {
     "data": {
      "text/plain": "'Robert Rodriguez'"
     },
     "execution_count": 282,
     "metadata": {},
     "output_type": "execute_result"
    }
   ],
   "source": [
    "action_df = director_genres_split_df[director_genres_split_df['genres_split'] == 'Action']\n",
    "action_df['director_split'].value_counts().sort_values(ascending=False).keys()[0]"
   ]
  },
  {
   "cell_type": "markdown",
   "metadata": {
    "colab_type": "text",
    "id": "PQ0KciD7Vp_f"
   },
   "source": [
    "# 15. Фильмы с каким актером принесли самые высокие кассовые сборы в 2012 году? "
   ]
  },
  {
   "cell_type": "code",
   "execution_count": 283,
   "metadata": {
    "colab": {},
    "colab_type": "code",
    "id": "aga62oeKVp_g"
   },
   "outputs": [],
   "source": [
    "answers['15'] = 'Chris Hemsworth'"
   ]
  },
  {
   "cell_type": "code",
   "execution_count": 284,
   "metadata": {},
   "outputs": [
    {
     "data": {
      "text/plain": "'Chris Hemsworth'"
     },
     "execution_count": 284,
     "metadata": {},
     "output_type": "execute_result"
    }
   ],
   "source": [
    "release_2012_df = cast_split_df[cast_split_df['release_year'] == 2012]\n",
    "revenue_df = release_2012_df.groupby('cast_split')['revenue']\n",
    "revenue_df.apply(sum).sort_values(ascending=False).keys()[0]"
   ]
  },
  {
   "cell_type": "markdown",
   "metadata": {
    "colab_type": "text",
    "id": "mWHyyL7QVp_j"
   },
   "source": [
    "# 16. Какой актер снялся в большем количестве высокобюджетных фильмов?"
   ]
  },
  {
   "cell_type": "code",
   "execution_count": 285,
   "metadata": {
    "colab": {},
    "colab_type": "code",
    "id": "qQtmHKTFVp_k"
   },
   "outputs": [],
   "source": [
    "answers['16'] = 'Matt Damon'"
   ]
  },
  {
   "cell_type": "code",
   "execution_count": 286,
   "metadata": {},
   "outputs": [
    {
     "data": {
      "text/plain": "'Matt Damon'"
     },
     "execution_count": 286,
     "metadata": {},
     "output_type": "execute_result"
    }
   ],
   "source": [
    "high_budget_df = cast_split_df[cast_split_df['budget'] >= np.mean(cast_split_df['budget'])]\n",
    "high_budget_df['cast_split'].value_counts().sort_values(ascending=False).keys()[0]"
   ]
  },
  {
   "cell_type": "markdown",
   "metadata": {
    "colab_type": "text",
    "id": "NIh6AaW5Vp_n"
   },
   "source": [
    "# 17. В фильмах какого жанра больше всего снимался Nicolas Cage? "
   ]
  },
  {
   "cell_type": "code",
   "execution_count": 287,
   "metadata": {},
   "outputs": [],
   "source": [
    "answers['17'] = 'Action'"
   ]
  },
  {
   "cell_type": "code",
   "execution_count": 288,
   "metadata": {
    "colab": {},
    "colab_type": "code",
    "id": "H74SJDIBVp_n"
   },
   "outputs": [
    {
     "data": {
      "text/plain": "'Action'"
     },
     "execution_count": 288,
     "metadata": {},
     "output_type": "execute_result"
    }
   ],
   "source": [
    "ncage_df = cast_genres_split_df[cast_genres_split_df['cast_split'] == 'Nicolas Cage']\n",
    "ncage_df['genres_split'].value_counts().sort_values(ascending=False).keys()[0]"
   ]
  },
  {
   "cell_type": "markdown",
   "metadata": {
    "colab_type": "text",
    "id": "RqOmPRfWVp_q"
   },
   "source": [
    "# 18. Самый убыточный фильм от Paramount Pictures"
   ]
  },
  {
   "cell_type": "code",
   "execution_count": 289,
   "metadata": {
    "colab": {},
    "colab_type": "code",
    "id": "9E_B0Y96Vp_r"
   },
   "outputs": [],
   "source": [
    "answers['18'] = 'K-19: The Widowmaker (tt0267626)'"
   ]
  },
  {
   "cell_type": "code",
   "execution_count": 290,
   "metadata": {},
   "outputs": [
    {
     "data": {
      "text/plain": "'K-19: The Widowmaker (tt0267626)'"
     },
     "execution_count": 290,
     "metadata": {},
     "output_type": "execute_result"
    }
   ],
   "source": [
    "para_df = prod_companies_split_df[prod_companies_split_df['prod_companies_split'] == 'Paramount Pictures']\n",
    "para_df[para_df['profit'] == min(para_df['profit'])]['full_title'].iloc[0]"
   ]
  },
  {
   "cell_type": "markdown",
   "metadata": {
    "colab_type": "text",
    "id": "vS8Ur6ddVp_u"
   },
   "source": [
    "# 19. Какой год стал самым успешным по суммарным кассовым сборам?"
   ]
  },
  {
   "cell_type": "code",
   "execution_count": 291,
   "metadata": {
    "colab": {},
    "colab_type": "code",
    "id": "Dnbt4GdIVp_v"
   },
   "outputs": [],
   "source": [
    "answers['19'] = 2015"
   ]
  },
  {
   "cell_type": "code",
   "execution_count": 292,
   "metadata": {},
   "outputs": [
    {
     "data": {
      "text/plain": "2015"
     },
     "execution_count": 292,
     "metadata": {},
     "output_type": "execute_result"
    }
   ],
   "source": [
    "df.groupby('release_year')['revenue'].apply(sum).sort_values(ascending=False).keys()[0]"
   ]
  },
  {
   "cell_type": "markdown",
   "metadata": {
    "colab_type": "text",
    "id": "JAzJh4QAVp_z"
   },
   "source": [
    "# 20. Какой самый прибыльный год для студии Warner Bros?"
   ]
  },
  {
   "cell_type": "code",
   "execution_count": 293,
   "metadata": {
    "colab": {},
    "colab_type": "code",
    "id": "wgVu02DEVp_0"
   },
   "outputs": [],
   "source": [
    "answers['20'] = 2014"
   ]
  },
  {
   "cell_type": "code",
   "execution_count": 294,
   "metadata": {},
   "outputs": [
    {
     "data": {
      "text/plain": "2014"
     },
     "execution_count": 294,
     "metadata": {},
     "output_type": "execute_result"
    }
   ],
   "source": [
    "warner_df = prod_companies_split_df[prod_companies_split_df['prod_companies_split'].str.startswith('Warner Bros', na=False)]\n",
    "warner_df.groupby('release_year')['profit'].apply(sum).sort_values(ascending=False).keys()[0]"
   ]
  },
  {
   "cell_type": "markdown",
   "metadata": {
    "colab_type": "text",
    "id": "8Im1S2HRVp_4"
   },
   "source": [
    "# 21. В каком месяце за все годы суммарно вышло больше всего фильмов?"
   ]
  },
  {
   "cell_type": "code",
   "execution_count": 295,
   "metadata": {
    "colab": {},
    "colab_type": "code",
    "id": "lev6TH7gVp_4"
   },
   "outputs": [],
   "source": [
    "answers['21'] = 'Сентябрь'"
   ]
  },
  {
   "cell_type": "code",
   "execution_count": 296,
   "metadata": {},
   "outputs": [
    {
     "data": {
      "text/plain": "9"
     },
     "execution_count": 296,
     "metadata": {},
     "output_type": "execute_result"
    }
   ],
   "source": [
    "df['release_month'].value_counts().sort_values(ascending=False).keys()[0]"
   ]
  },
  {
   "cell_type": "markdown",
   "metadata": {
    "colab_type": "text",
    "id": "uAJsZ_NeVp_7"
   },
   "source": [
    "# 22. Сколько суммарно вышло фильмов летом? (за июнь, июль, август)"
   ]
  },
  {
   "cell_type": "code",
   "execution_count": 297,
   "metadata": {
    "colab": {},
    "colab_type": "code",
    "id": "Aa-hEREoVp_8"
   },
   "outputs": [],
   "source": [
    "answers['22'] = 450"
   ]
  },
  {
   "cell_type": "code",
   "execution_count": 298,
   "metadata": {},
   "outputs": [
    {
     "data": {
      "text/plain": "450"
     },
     "execution_count": 298,
     "metadata": {},
     "output_type": "execute_result"
    }
   ],
   "source": [
    "df['release_season'].value_counts()['summer']"
   ]
  },
  {
   "cell_type": "markdown",
   "metadata": {
    "colab_type": "text",
    "id": "G94ppOY1VqAA"
   },
   "source": [
    "# 23. Для какого режиссера зима – самое продуктивное время года? "
   ]
  },
  {
   "cell_type": "code",
   "execution_count": 299,
   "metadata": {
    "colab": {},
    "colab_type": "code",
    "id": "RhNTsamuVqAB"
   },
   "outputs": [],
   "source": [
    "answers['23'] = 'Peter Jackson'"
   ]
  },
  {
   "cell_type": "code",
   "execution_count": 300,
   "metadata": {},
   "outputs": [
    {
     "data": {
      "text/plain": "'Peter Jackson'"
     },
     "execution_count": 300,
     "metadata": {},
     "output_type": "execute_result"
    }
   ],
   "source": [
    "winter_df = director_split_df[director_split_df['release_season'] == 'winter']['director_split']\n",
    "winter_df.value_counts().sort_values(ascending=False).keys()[0]"
   ]
  },
  {
   "cell_type": "markdown",
   "metadata": {
    "colab_type": "text",
    "id": "RBo0JVjVVqAF"
   },
   "source": [
    "# 24. Какая студия дает самые длинные названия своим фильмам по количеству символов?"
   ]
  },
  {
   "cell_type": "code",
   "execution_count": 301,
   "metadata": {
    "colab": {},
    "colab_type": "code",
    "id": "QRGS8L0iVqAG"
   },
   "outputs": [],
   "source": [
    "answers['24'] = 'Four By Two Productions'"
   ]
  },
  {
   "cell_type": "code",
   "execution_count": 302,
   "metadata": {},
   "outputs": [
    {
     "data": {
      "text/plain": "'Four By Two Productions'"
     },
     "execution_count": 302,
     "metadata": {},
     "output_type": "execute_result"
    }
   ],
   "source": [
    "title_len_df = prod_companies_split_df.groupby('prod_companies_split')['original_title_len']\n",
    "title_len_df.apply(np.mean).sort_values(ascending=False).keys()[0]"
   ]
  },
  {
   "cell_type": "markdown",
   "metadata": {
    "colab_type": "text",
    "id": "9G0hbvR7VqAK"
   },
   "source": [
    "# 25. Описание фильмов какой студии в среднем самые длинные по количеству слов?"
   ]
  },
  {
   "cell_type": "code",
   "execution_count": 303,
   "metadata": {
    "colab": {},
    "colab_type": "code",
    "id": "Ge2GsLNxVqAK"
   },
   "outputs": [],
   "source": [
    "answers['25'] = 'Midnight Picture Show'"
   ]
  },
  {
   "cell_type": "code",
   "execution_count": 304,
   "metadata": {},
   "outputs": [
    {
     "data": {
      "text/plain": "'Midnight Picture Show'"
     },
     "execution_count": 304,
     "metadata": {},
     "output_type": "execute_result"
    }
   ],
   "source": [
    "overview_words_count_df = prod_companies_split_df.groupby('prod_companies_split')['overview_words_count']\n",
    "overview_words_count_df.apply(np.mean).sort_values(ascending=False).keys()[0]"
   ]
  },
  {
   "cell_type": "markdown",
   "metadata": {
    "colab_type": "text",
    "id": "FJ1AFt90VqAP"
   },
   "source": [
    "# 26. Какие фильмы входят в 1 процент лучших по рейтингу? \n",
    "по vote_average"
   ]
  },
  {
   "cell_type": "code",
   "execution_count": 305,
   "metadata": {
    "colab": {},
    "colab_type": "code",
    "id": "8qmJVq4CVqAQ"
   },
   "outputs": [],
   "source": [
    "answers['26'] = 'Inside Out, The Dark Knight, 12 Years a Slave'"
   ]
  },
  {
   "cell_type": "code",
   "execution_count": 306,
   "metadata": {},
   "outputs": [
    {
     "data": {
      "text/plain": "9                                              Inside Out\n28                                              Spotlight\n34                                                   Room\n118                                          Interstellar\n119                               Guardians of the Galaxy\n124                                            Big Hero 6\n125                                    The Imitation Game\n128                                             Gone Girl\n138                              The Grand Budapest Hotel\n155                              The Theory of Everything\n177                                The Fault in Our Stars\n283                                            Mr. Nobody\n316                                              3 Idiots\n370                                             Inception\n496     The Lord of the Rings: The Fellowship of the Ring\n599                                       The Dark Knight\n863                 The Lord of the Rings: The Two Towers\n872                                           The Pianist\n1081        The Lord of the Rings: The Return of the King\n1183                              The Wolf of Wall Street\n1188                                                  Her\n1191                                     12 Years a Slave\n1205                                            Prisoners\n1213                                   Dallas Buyers Club\n1444                                         The Prestige\n1563                Eternal Sunshine of the Spotless Mind\n1688                                  There Will Be Blood\n1800                                              Memento\nName: original_title, dtype: object"
     },
     "execution_count": 306,
     "metadata": {},
     "output_type": "execute_result"
    }
   ],
   "source": [
    "df[df['vote_average'] >= df['vote_average'].quantile(0.99)]['original_title']"
   ]
  },
  {
   "cell_type": "markdown",
   "metadata": {
    "colab_type": "text",
    "id": "MdXsUXbCVqAV"
   },
   "source": [
    "# 27. Какие актеры чаще всего снимаются в одном фильме вместе?\n"
   ]
  },
  {
   "cell_type": "code",
   "execution_count": 307,
   "metadata": {},
   "outputs": [],
   "source": [
    "answers['27'] = 'Daniel Radcliffe & Rupert Grint'"
   ]
  },
  {
   "cell_type": "code",
   "execution_count": 308,
   "metadata": {},
   "outputs": [
    {
     "data": {
      "text/plain": "                                           count\ncast_split_combinations                         \n(Daniel Radcliffe, Rupert Grint)               8\n(Emma Watson, Rupert Grint)                    8\n(Daniel Radcliffe, Emma Watson)                8\n(Ben Stiller, Owen Wilson)                     6\n(Helena Bonham Carter, Johnny Depp)            6\n...                                          ...\n(Christopher Walken, Robin Williams)           1\n(Christopher Walken, Rosario Dawson)           1\n(Christopher Walken, Sam Rockwell)             1\n(Christopher Walken, Seann William Scott)      1\n(Zachary Quinto, Zoe Saldana)                  1\n\n[17943 rows x 1 columns]",
      "text/html": "<div>\n<style scoped>\n    .dataframe tbody tr th:only-of-type {\n        vertical-align: middle;\n    }\n\n    .dataframe tbody tr th {\n        vertical-align: top;\n    }\n\n    .dataframe thead th {\n        text-align: right;\n    }\n</style>\n<table border=\"1\" class=\"dataframe\">\n  <thead>\n    <tr style=\"text-align: right;\">\n      <th></th>\n      <th>count</th>\n    </tr>\n    <tr>\n      <th>cast_split_combinations</th>\n      <th></th>\n    </tr>\n  </thead>\n  <tbody>\n    <tr>\n      <th>(Daniel Radcliffe, Rupert Grint)</th>\n      <td>8</td>\n    </tr>\n    <tr>\n      <th>(Emma Watson, Rupert Grint)</th>\n      <td>8</td>\n    </tr>\n    <tr>\n      <th>(Daniel Radcliffe, Emma Watson)</th>\n      <td>8</td>\n    </tr>\n    <tr>\n      <th>(Ben Stiller, Owen Wilson)</th>\n      <td>6</td>\n    </tr>\n    <tr>\n      <th>(Helena Bonham Carter, Johnny Depp)</th>\n      <td>6</td>\n    </tr>\n    <tr>\n      <th>...</th>\n      <td>...</td>\n    </tr>\n    <tr>\n      <th>(Christopher Walken, Robin Williams)</th>\n      <td>1</td>\n    </tr>\n    <tr>\n      <th>(Christopher Walken, Rosario Dawson)</th>\n      <td>1</td>\n    </tr>\n    <tr>\n      <th>(Christopher Walken, Sam Rockwell)</th>\n      <td>1</td>\n    </tr>\n    <tr>\n      <th>(Christopher Walken, Seann William Scott)</th>\n      <td>1</td>\n    </tr>\n    <tr>\n      <th>(Zachary Quinto, Zoe Saldana)</th>\n      <td>1</td>\n    </tr>\n  </tbody>\n</table>\n<p>17943 rows × 1 columns</p>\n</div>"
     },
     "execution_count": 308,
     "metadata": {},
     "output_type": "execute_result"
    }
   ],
   "source": [
    "cast_combinations_df = cast_split_combinations_df.groupby('cast_split_combinations')['cast_split_combinations']\n",
    "cast_combinations_df.agg(['count']).sort_values(by='count',ascending=False)"
   ]
  },
  {
   "cell_type": "markdown",
   "metadata": {
    "colab_type": "text",
    "id": "U0nONFnGVqAX"
   },
   "source": [
    "# Submission"
   ]
  },
  {
   "cell_type": "code",
   "execution_count": 309,
   "metadata": {
    "colab": {},
    "colab_type": "code",
    "id": "IfcaRO9-VqAX",
    "outputId": "0f132912-32bb-4196-c98c-abfbc4ad5a5f"
   },
   "outputs": [
    {
     "data": {
      "text/plain": "{'1': 'Pirates of the Caribbean: On Stranger Tides (tt1298650)',\n '2': 'Gods and Generals (tt0279111)',\n '3': 'Winnie the Pooh (tt1449283)',\n '4': 110,\n '5': 107.0,\n '6': 'Avatar (tt0499549)',\n '7': 'The Lone Ranger (tt1210819)',\n '8': 1478,\n '9': 'The Dark Knight (tt0468569)',\n '10': 'The Lone Ranger (tt1210819)',\n '11': 'Drama',\n '12': 'Drama',\n '13': 'Peter Jackson',\n '14': 'Robert Rodriguez',\n '15': 'Chris Hemsworth',\n '16': 'Matt Damon',\n '17': 'Action',\n '18': 'K-19: The Widowmaker (tt0267626)',\n '19': 2015,\n '20': 2014,\n '21': 'Сентябрь',\n '22': 450,\n '23': 'Peter Jackson',\n '24': 'Four By Two Productions',\n '25': 'Midnight Picture Show',\n '26': 'Inside Out, The Dark Knight, 12 Years a Slave',\n '27': 'Daniel Radcliffe & Rupert Grint'}"
     },
     "execution_count": 309,
     "metadata": {},
     "output_type": "execute_result"
    }
   ],
   "source": [
    "answers"
   ]
  },
  {
   "cell_type": "code",
   "execution_count": 310,
   "metadata": {
    "colab": {},
    "colab_type": "code",
    "id": "SiRmHPl8VqAd"
   },
   "outputs": [
    {
     "data": {
      "text/plain": "27"
     },
     "execution_count": 310,
     "metadata": {},
     "output_type": "execute_result"
    }
   ],
   "source": [
    "len(answers)"
   ]
  }
 ],
 "metadata": {
  "colab": {
   "name": "Copy of [SF-DST] Movies IMBD v4.1 TEMPLATE.ipynb",
   "provenance": []
  },
  "kernelspec": {
   "display_name": "Python 3",
   "language": "python",
   "name": "python3"
  },
  "language_info": {
   "codemirror_mode": {
    "name": "ipython",
    "version": 3
   },
   "file_extension": ".py",
   "mimetype": "text/x-python",
   "name": "python",
   "nbconvert_exporter": "python",
   "pygments_lexer": "ipython3",
   "version": "3.8.3"
  }
 },
 "nbformat": 4,
 "nbformat_minor": 1
}
