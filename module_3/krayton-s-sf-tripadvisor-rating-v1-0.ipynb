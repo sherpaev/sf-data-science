{
 "metadata": {
  "kernelspec": {
   "language": "python",
   "display_name": "Python 3",
   "name": "python3"
  },
  "language_info": {
   "pygments_lexer": "ipython3",
   "nbconvert_exporter": "python",
   "version": "3.6.4",
   "file_extension": ".py",
   "codemirror_mode": {
    "name": "ipython",
    "version": 3
   },
   "name": "python",
   "mimetype": "text/x-python"
  }
 },
 "nbformat_minor": 4,
 "nbformat": 4,
 "cells": [
  {
   "cell_type": "markdown",
   "source": [
    "# SkillFactory. Data Science. Проект №3."
   ],
   "metadata": {}
  },
  {
   "cell_type": "markdown",
   "source": [
    "### Задача: предсказать рейтинг ресторанов в TripAdvisor.\n"
   ],
   "metadata": {}
  },
  {
   "cell_type": "markdown",
   "source": [
    "# Загрузка и инициализация "
   ],
   "metadata": {}
  },
  {
   "cell_type": "markdown",
   "source": [
    "## Библиотеки"
   ],
   "metadata": {}
  },
  {
   "cell_type": "code",
   "source": [
    "import numpy as np\n",
    "import pandas as pd\n",
    "from collections import Counter\n",
    "import re\n",
    "import seaborn as sns\n",
    "import missingno as missin\n",
    "import matplotlib.pyplot as plt\n",
    "from sklearn.model_selection import train_test_split\n",
    "import os\n",
    "from datetime import datetime, timedelta\n",
    "from textblob import TextBlob"
   ],
   "metadata": {
    "_cell_guid": "b1076dfc-b9ad-4769-8c92-a6c4dae69d19",
    "_uuid": "8f2839f25d086af736a60e9eeb907d3b93b6e0e5",
    "execution": {
     "iopub.status.busy": "2021-06-23T22:22:02.693659Z",
     "iopub.execute_input": "2021-06-23T22:22:02.694028Z",
     "iopub.status.idle": "2021-06-23T22:22:02.701234Z",
     "shell.execute_reply.started": "2021-06-23T22:22:02.69397Z",
     "shell.execute_reply": "2021-06-23T22:22:02.700186Z"
    },
    "trusted": true
   },
   "execution_count": null,
   "outputs": []
  },
  {
   "cell_type": "code",
   "source": [
    "%matplotlib inline\n",
    "plt.rcParams['figure.figsize'] = (10, 7)\n",
    "for dirname, _, filenames in os.walk('/kaggle/input'):\n",
    "    for filename in filenames:\n",
    "        print(os.path.join(dirname, filename))"
   ],
   "metadata": {
    "collapsed": false,
    "pycharm": {
     "name": "#%%\n"
    },
    "jupyter": {
     "outputs_hidden": false
    },
    "execution": {
     "iopub.status.busy": "2021-06-23T22:22:02.751377Z",
     "iopub.execute_input": "2021-06-23T22:22:02.751683Z",
     "iopub.status.idle": "2021-06-23T22:22:02.769847Z",
     "shell.execute_reply.started": "2021-06-23T22:22:02.751635Z",
     "shell.execute_reply": "2021-06-23T22:22:02.768975Z"
    },
    "trusted": true
   },
   "execution_count": null,
   "outputs": []
  },
  {
   "cell_type": "code",
   "source": [
    "RANDOM_SEED = 42\n",
    "!pip freeze > requirements.txt"
   ],
   "metadata": {
    "execution": {
     "iopub.status.busy": "2021-06-23T22:22:02.782419Z",
     "iopub.execute_input": "2021-06-23T22:22:02.782961Z",
     "iopub.status.idle": "2021-06-23T22:22:05.255808Z",
     "shell.execute_reply.started": "2021-06-23T22:22:02.782886Z",
     "shell.execute_reply": "2021-06-23T22:22:05.254601Z"
    },
    "trusted": true
   },
   "execution_count": null,
   "outputs": []
  },
  {
   "cell_type": "markdown",
   "source": [
    "## Датасеты\n",
    "\n",
    "Загружаются следующие датасеты:\n",
    "1. **df_train** - дата о ресторанах, на котором тренирую модель;\n",
    "2. **df_test** - дата о ресторанах, на которых тестирую модель;\n",
    "3. **data** - объединенный df_train и df_test, который анализирую, чищу и дополняю информацией;\n",
    "4. **sample_submission** - пример отправки;\n",
    "5. **cities**, **concap.csv**, **worlcities.csv** - датасеты о городах и странах, добавленные с kaggle дополнительно для создания новых признаков.\n"
   ],
   "metadata": {}
  },
  {
   "cell_type": "markdown",
   "source": [
    "### main_task.csv, kaggle_task.csv, sample_submission.csv \n",
    " Предоставленные датасеты, содержащие информацию о ресторанах. "
   ],
   "metadata": {}
  },
  {
   "cell_type": "code",
   "source": [
    "DATA_DIR = '/kaggle/input/sf-dst-restaurant-rating/'\n",
    "df_train = pd.read_csv(DATA_DIR + '/main_task.csv')\n",
    "df_test = pd.read_csv(DATA_DIR + '/kaggle_task.csv')\n",
    "sample_submission = pd.read_csv(DATA_DIR + '/sample_submission.csv')"
   ],
   "metadata": {
    "_cell_guid": "79c7e3d0-c299-4dcb-8224-4455121ee9b0",
    "_uuid": "d629ff2d2480ee46fbb7e2d37f6b5fab8052498a",
    "execution": {
     "iopub.status.busy": "2021-06-23T22:22:05.257883Z",
     "iopub.execute_input": "2021-06-23T22:22:05.25814Z",
     "iopub.status.idle": "2021-06-23T22:22:05.534432Z",
     "shell.execute_reply.started": "2021-06-23T22:22:05.258103Z",
     "shell.execute_reply": "2021-06-23T22:22:05.533496Z"
    },
    "trusted": true
   },
   "execution_count": null,
   "outputs": []
  },
  {
   "cell_type": "markdown",
   "source": [
    "Подгоняю названия полей под стандарт PEP8."
   ],
   "metadata": {}
  },
  {
   "cell_type": "code",
   "source": [
    "for dataset in [df_train, df_test, sample_submission]:\n",
    "    dataset.columns = list(map(lambda x: (x.replace(' ', '_')).lower(), dataset.columns))"
   ],
   "metadata": {
    "execution": {
     "iopub.status.busy": "2021-06-23T22:22:05.535829Z",
     "iopub.execute_input": "2021-06-23T22:22:05.536078Z",
     "iopub.status.idle": "2021-06-23T22:22:05.542689Z",
     "shell.execute_reply.started": "2021-06-23T22:22:05.536037Z",
     "shell.execute_reply": "2021-06-23T22:22:05.54177Z"
    },
    "trusted": true
   },
   "execution_count": null,
   "outputs": []
  },
  {
   "cell_type": "markdown",
   "source": [
    "Для корректной обработки признаков объединяю трейн и тест в один датасет\n",
    "\n",
    "Помечаю трейн sample = 1\n",
    "\n",
    "Выставляю rating = 0 в тесте нам его нужно предсказать."
   ],
   "metadata": {}
  },
  {
   "cell_type": "code",
   "source": [
    "df_train['sample'] = 1\n",
    "df_test['sample'] = 0\n",
    "df_test['rating'] = 0\n",
    "\n",
    "data = df_test.append(df_train, sort=False).reset_index(drop=True)"
   ],
   "metadata": {
    "execution": {
     "iopub.status.busy": "2021-06-23T22:22:05.544201Z",
     "iopub.execute_input": "2021-06-23T22:22:05.544456Z",
     "iopub.status.idle": "2021-06-23T22:22:05.595444Z",
     "shell.execute_reply.started": "2021-06-23T22:22:05.544407Z",
     "shell.execute_reply": "2021-06-23T22:22:05.594508Z"
    },
    "trusted": true
   },
   "execution_count": null,
   "outputs": []
  },
  {
   "cell_type": "code",
   "source": [
    "data.info()"
   ],
   "metadata": {
    "execution": {
     "iopub.status.busy": "2021-06-23T22:22:05.598495Z",
     "iopub.execute_input": "2021-06-23T22:22:05.598806Z",
     "iopub.status.idle": "2021-06-23T22:22:05.645612Z",
     "shell.execute_reply.started": "2021-06-23T22:22:05.598748Z",
     "shell.execute_reply": "2021-06-23T22:22:05.644348Z"
    },
    "trusted": true
   },
   "execution_count": null,
   "outputs": []
  },
  {
   "cell_type": "markdown",
   "source": [
    "#### Разъяснение признаков\n",
    "* **restaurant_id**: ID ресторана\n",
    "* **city**: Город \n",
    "* **cuisine_style**: Кухня\n",
    "* **ranking**: Ранг ресторана относительно других ресторанов в этом городе\n",
    "* **price_range**: Цены в ресторане в 3 категориях\n",
    "* **number_of_reviews**: Количество отзывов\n",
    "* **reviews**: 2 последних отзыва и даты этих отзывов\n",
    "* **url_ta**: страница ресторана на 'www.tripadvisor.com' \n",
    "* **id_ta**: ID ресторана в TripAdvisor\n",
    "* **rating**: Рейтинг ресторана"
   ],
   "metadata": {}
  },
  {
   "cell_type": "code",
   "source": [
    "data.sample(5)"
   ],
   "metadata": {
    "execution": {
     "iopub.status.busy": "2021-06-23T22:22:05.650161Z",
     "iopub.execute_input": "2021-06-23T22:22:05.65049Z",
     "iopub.status.idle": "2021-06-23T22:22:05.675161Z",
     "shell.execute_reply.started": "2021-06-23T22:22:05.650439Z",
     "shell.execute_reply": "2021-06-23T22:22:05.673844Z"
    },
    "trusted": true
   },
   "execution_count": null,
   "outputs": []
  },
  {
   "cell_type": "markdown",
   "source": [
    "### worldcities.csv\n",
    "Датасет для добавления таких признаков, как страна и популяция."
   ],
   "metadata": {}
  },
  {
   "cell_type": "code",
   "source": [
    "cities = pd.read_csv('../input/world-cities/worldcities.csv')\n",
    "cities = cities[['city', 'country', 'population']].copy().set_index('city')\n",
    "cities.sample(10)"
   ],
   "metadata": {
    "execution": {
     "iopub.status.busy": "2021-06-23T22:22:05.676716Z",
     "iopub.execute_input": "2021-06-23T22:22:05.677051Z",
     "iopub.status.idle": "2021-06-23T22:22:05.775463Z",
     "shell.execute_reply.started": "2021-06-23T22:22:05.676993Z",
     "shell.execute_reply": "2021-06-23T22:22:05.774342Z"
    },
    "trusted": true
   },
   "execution_count": null,
   "outputs": []
  },
  {
   "cell_type": "markdown",
   "source": [
    "### countries of the world.csv\n",
    "Датасет для добавления признаков о стране."
   ],
   "metadata": {}
  },
  {
   "cell_type": "code",
   "source": [
    "countries = pd.read_csv('../input/countries-of-the-world/countries of the world.csv')\n",
    "countries = countries[[\n",
    "    'Country',\n",
    "    'Coastline (coast/area ratio)',\n",
    "    'GDP ($ per capita)',\n",
    "    'Phones (per 1000)',\n",
    "    'Agriculture',\n",
    "    'Service'\n",
    "]].copy()\n",
    "countries.columns = ['country', 'coastline', 'gdp', 'phones', 'agriculture', 'service']\n",
    "countries = countries.set_index('country')\n",
    "countries.index = countries.index.str.strip()\n",
    "countries.sample(10)"
   ],
   "metadata": {
    "execution": {
     "iopub.status.busy": "2021-06-23T22:22:05.776777Z",
     "iopub.execute_input": "2021-06-23T22:22:05.777085Z",
     "iopub.status.idle": "2021-06-23T22:22:05.808249Z",
     "shell.execute_reply.started": "2021-06-23T22:22:05.777026Z",
     "shell.execute_reply": "2021-06-23T22:22:05.807353Z"
    },
    "trusted": true
   },
   "execution_count": null,
   "outputs": []
  },
  {
   "cell_type": "markdown",
   "source": [
    "### concap.csv\n",
    "Датасет для добавления признака столицы."
   ],
   "metadata": {
    "execution": {
     "iopub.status.busy": "2021-05-29T05:58:59.508546Z",
     "iopub.execute_input": "2021-05-29T05:58:59.50885Z",
     "iopub.status.idle": "2021-05-29T05:58:59.512181Z",
     "shell.execute_reply.started": "2021-05-29T05:58:59.508816Z",
     "shell.execute_reply": "2021-05-29T05:58:59.511517Z"
    }
   }
  },
  {
   "cell_type": "code",
   "source": [
    "capitals = pd.read_csv('../input/world-capitals-gps/concap.csv')\n",
    "capitals = capitals[['CountryName', 'CapitalName']]\n",
    "capitals.columns = ['country', 'capital']\n",
    "capitals = capitals.set_index('country')\n",
    "capitals.index = capitals.index.str.strip()\n",
    "capitals.sample(10)"
   ],
   "metadata": {
    "execution": {
     "iopub.status.busy": "2021-06-23T22:22:05.809644Z",
     "iopub.execute_input": "2021-06-23T22:22:05.809925Z",
     "iopub.status.idle": "2021-06-23T22:22:05.833883Z",
     "shell.execute_reply.started": "2021-06-23T22:22:05.809876Z",
     "shell.execute_reply": "2021-06-23T22:22:05.832708Z"
    },
    "trusted": true
   },
   "execution_count": null,
   "outputs": []
  },
  {
   "cell_type": "markdown",
   "source": [
    "# Предобработка данных и РАД"
   ],
   "metadata": {}
  },
  {
   "cell_type": "markdown",
   "source": [
    "## 0. Полезные функции"
   ],
   "metadata": {}
  },
  {
   "cell_type": "markdown",
   "source": [
    "Найти самый часто встречающийся вид кухни по странам или городам."
   ],
   "metadata": {
    "pycharm": {
     "name": "#%% md\n"
    }
   }
  },
  {
   "cell_type": "code",
   "source": [
    "def common_cuisine(data_frame, country_or_city, by_country=True):\n",
    "    column_name = 'country' if by_country else 'city'\n",
    "    return data_frame[data_frame[column_name] == country_or_city]['cuisine_style'].value_counts().index[0]"
   ],
   "metadata": {
    "execution": {
     "iopub.status.busy": "2021-06-23T22:22:05.83535Z",
     "iopub.execute_input": "2021-06-23T22:22:05.835662Z",
     "iopub.status.idle": "2021-06-23T22:22:05.841538Z",
     "shell.execute_reply.started": "2021-06-23T22:22:05.835605Z",
     "shell.execute_reply": "2021-06-23T22:22:05.840432Z"
    },
    "trusted": true
   },
   "execution_count": null,
   "outputs": []
  },
  {
   "cell_type": "markdown",
   "source": [
    "Распарсить ревью поля"
   ],
   "metadata": {}
  },
  {
   "cell_type": "code",
   "source": [
    "def parse_reviews(df):\n",
    "    df['reviews'].fillna('[[], []]', inplace=True)\n",
    "    df['tmp_reviews'] = df['reviews'].apply(lambda x: x.split('],')[0].split(\"',\"))\n",
    "\n",
    "    df['review_1'] = df['tmp_reviews'].apply(lambda x: x[0])\n",
    "    df['review_2'] = df['tmp_reviews'].apply(lambda x: x[-1])\n",
    "    df['review_1'] = df['review_1'].apply(\n",
    "        lambda x: x.replace('[', '').replace(\"'\", '').replace('\"', '')\n",
    "    )\n",
    "    df['review_2'] = df['review_2'].apply(\n",
    "        lambda x: x.replace('[', '').replace(\"'\", '').replace('\"', '')\n",
    "    )\n",
    "    df.drop('tmp_reviews', axis=1, inplace=True)\n",
    "\n",
    "    # remove duplicates\n",
    "    df['review_2'] = df[['review_2', 'review_1']].apply(\n",
    "        lambda x: '' if x[0] == x[1] else x[0],\n",
    "        axis=1\n",
    "    )\n",
    "    \n",
    "    df['review_ton_1'] = df['review_1'].apply(lambda x: TextBlob(x).polarity)\n",
    "    df['review_ton_2'] = df['review_2'].apply(lambda x: TextBlob(x).polarity)\n",
    "\n",
    "    df['tmp_days_reviews'] = df['reviews'].apply(lambda x: x.split('],')[-1].split(\"',\"))\n",
    "    df['day_1'] = df['tmp_days_reviews'].apply(lambda x: x[0])\n",
    "    df['day_2'] = df['tmp_days_reviews'].apply(lambda x: x[-1])\n",
    "    df['day_1'] = df['day_1'].apply(\n",
    "        lambda x: x.replace('[', '').replace(\"'\", '').replace(']', '').replace(' ', '').replace('\"', '')\n",
    "    )\n",
    "    df['day_2'] = df['day_2'].apply(\n",
    "        lambda x: x.replace('[', '').replace(\"'\", '').replace(']', '').replace(' ', '').replace('\"', '')\n",
    "    )\n",
    "    df.drop('tmp_days_reviews', axis=1, inplace=True)\n",
    "\n",
    "    # remove duplicates\n",
    "    df['day_2'] = df[['day_2', 'day_1']].apply(\n",
    "        lambda x: '' if x[1] == '' else x[0],\n",
    "        axis=1\n",
    "    )\n",
    "\n",
    "    # format dates\n",
    "    df['day_1'] = df['day_1'].apply(lambda x: x if len(x) == 0 else datetime.strptime(x, '%m/%d/%Y'))\n",
    "    df['day_2'] = df['day_2'].apply(lambda x: x if len(x) == 0 else datetime.strptime(x, '%m/%d/%Y'))\n",
    "    \n",
    "    df['reviews_days_diff'] = abs(df['day_1'] - df['day_2']).apply(lambda x: x.days)"
   ],
   "metadata": {
    "pycharm": {
     "name": "#%%\n"
    },
    "execution": {
     "iopub.status.busy": "2021-06-23T22:22:05.843038Z",
     "iopub.execute_input": "2021-06-23T22:22:05.843429Z",
     "iopub.status.idle": "2021-06-23T22:22:05.870248Z",
     "shell.execute_reply.started": "2021-06-23T22:22:05.84337Z",
     "shell.execute_reply": "2021-06-23T22:22:05.869424Z"
    },
    "trusted": true
   },
   "execution_count": null,
   "outputs": []
  },
  {
   "cell_type": "markdown",
   "source": [
    "Вычислить разницу в количестве днях между двумя входящими датами."
   ],
   "metadata": {
    "execution": {
     "iopub.status.busy": "2021-06-23T13:24:35.761131Z",
     "iopub.execute_input": "2021-06-23T13:24:35.761471Z",
     "iopub.status.idle": "2021-06-23T13:24:35.986273Z",
     "shell.execute_reply.started": "2021-06-23T13:24:35.76141Z",
     "shell.execute_reply": "2021-06-23T13:24:35.985339Z"
    },
    "pycharm": {
     "name": "#%% md\n"
    },
    "trusted": true
   }
  },
  {
   "cell_type": "markdown",
   "source": [
    "Подсчитать квартили и выбросы IQR для поля"
   ],
   "metadata": {}
  },
  {
   "cell_type": "code",
   "source": [
    "def iqr_for_column(data, column):\n",
    "    perc_25 = data[column].quantile(0.25)\n",
    "    perc_75 = data[column].quantile(0.75)\n",
    "    iqr = perc_75 - perc_25\n",
    "    min_out = perc_25 - 1.5 * iqr\n",
    "    max_out = perc_75 + 1.5 * iqr\n",
    "    anomaly = len(data[data[column] > max_out]) + len(data[data[column] < min_out])\n",
    "    print(\n",
    "        '25-й перцентиль: {} |'.format(perc_25),\n",
    "        '75-й перцентиль: {} |'.format(perc_75),\n",
    "        \"IQR: {} | \".format(iqr),\n",
    "        \"Границы выбросов: [{}, {}].\".format(min_out, max_out))\n",
    "    print(\n",
    "        \"Выбросов, согласно IQR: {} | {:2.2%}\".format(\n",
    "            anomaly,\n",
    "            anomaly / len(data)\n",
    "        )\n",
    "    )"
   ],
   "metadata": {
    "execution": {
     "iopub.status.busy": "2021-06-23T22:22:05.871955Z",
     "iopub.execute_input": "2021-06-23T22:22:05.872426Z",
     "iopub.status.idle": "2021-06-23T22:22:05.890837Z",
     "shell.execute_reply.started": "2021-06-23T22:22:05.872366Z",
     "shell.execute_reply": "2021-06-23T22:22:05.889418Z"
    },
    "trusted": true
   },
   "execution_count": null,
   "outputs": []
  },
  {
   "cell_type": "markdown",
   "source": [
    "## 1. Обработка неизвестных значений NaN и создание новых признаков.\n",
    "### 1.1 Перед обработкой NAN  выношу информацию о наличии пропусков как отдельный признак.  \n",
    "\n",
    "Отображаю матрицу неизвестных значений."
   ],
   "metadata": {}
  },
  {
   "cell_type": "code",
   "source": [
    "fig, ax = plt.subplots(figsize=(8, 8))\n",
    "missin.matrix(data, ax=ax, sparkline=False)"
   ],
   "metadata": {
    "execution": {
     "iopub.status.busy": "2021-06-23T22:22:05.892905Z",
     "iopub.execute_input": "2021-06-23T22:22:05.893364Z",
     "iopub.status.idle": "2021-06-23T22:22:06.326694Z",
     "shell.execute_reply.started": "2021-06-23T22:22:05.893285Z",
     "shell.execute_reply": "2021-06-23T22:22:06.325526Z"
    },
    "trusted": true
   },
   "execution_count": null,
   "outputs": []
  },
  {
   "cell_type": "markdown",
   "source": [
    "Нахожу столбцы с неизвестными значениями."
   ],
   "metadata": {
    "execution": {
     "iopub.status.busy": "2021-06-23T13:24:36.544261Z",
     "iopub.execute_input": "2021-06-23T13:24:36.544615Z",
     "iopub.status.idle": "2021-06-23T13:24:36.832076Z",
     "shell.execute_reply.started": "2021-06-23T13:24:36.544557Z",
     "shell.execute_reply": "2021-06-23T13:24:36.831167Z"
    },
    "pycharm": {
     "name": "#%% md\n"
    },
    "trusted": true
   }
  },
  {
   "cell_type": "code",
   "source": [
    "cols_with_nans = (data.isnull().any()[lambda column: column]).index\n",
    "cols_with_nans"
   ],
   "metadata": {
    "collapsed": false,
    "pycharm": {
     "name": "#%%\n"
    },
    "jupyter": {
     "outputs_hidden": false
    },
    "execution": {
     "iopub.status.busy": "2021-06-23T22:22:06.328769Z",
     "iopub.execute_input": "2021-06-23T22:22:06.329326Z",
     "iopub.status.idle": "2021-06-23T22:22:06.393546Z",
     "shell.execute_reply.started": "2021-06-23T22:22:06.329077Z",
     "shell.execute_reply": "2021-06-23T22:22:06.392564Z"
    },
    "trusted": true
   },
   "execution_count": null,
   "outputs": []
  },
  {
   "cell_type": "markdown",
   "source": [
    "Создаю новый бинарный признак для каждого столбца с неизвестными значениями о наличии пропусков."
   ],
   "metadata": {
    "execution": {
     "iopub.status.busy": "2021-06-23T13:24:36.833693Z",
     "iopub.execute_input": "2021-06-23T13:24:36.834014Z",
     "iopub.status.idle": "2021-06-23T13:24:37.086992Z",
     "shell.execute_reply.started": "2021-06-23T13:24:36.833958Z",
     "shell.execute_reply": "2021-06-23T13:24:37.085951Z"
    },
    "pycharm": {
     "name": "#%% md\n"
    },
    "trusted": true
   }
  },
  {
   "cell_type": "code",
   "source": [
    "for col in cols_with_nans:\n",
    "    new_col_name = col + '_is_nan'\n",
    "    data[new_col_name] = pd.isna(data[col]).astype('uint8')"
   ],
   "metadata": {
    "collapsed": false,
    "pycharm": {
     "name": "#%%\n"
    },
    "jupyter": {
     "outputs_hidden": false
    },
    "execution": {
     "iopub.status.busy": "2021-06-23T22:22:06.394886Z",
     "iopub.execute_input": "2021-06-23T22:22:06.395383Z",
     "iopub.status.idle": "2021-06-23T22:22:06.421711Z",
     "shell.execute_reply.started": "2021-06-23T22:22:06.395097Z",
     "shell.execute_reply": "2021-06-23T22:22:06.420642Z"
    },
    "trusted": true
   },
   "execution_count": null,
   "outputs": []
  },
  {
   "cell_type": "markdown",
   "source": [
    "### 1.2 Разбор столбцов с NaN по отдельности: замена NaN значений и создание взаимосвязанных новых признаков.\n",
    "Неизвестные значения имеются в стобцах **cuisine_style**, **price_range**, **number_of_reviews** и **reviews**.\n",
    "\n",
    "Рассмотриваю каждый из них по отдельности.\n",
    "\n",
    "Также, дополнительно создаю новые признаки такие, как **country** и **cuisine_count**."
   ],
   "metadata": {}
  },
  {
   "cell_type": "markdown",
   "source": [
    "#### Признак country"
   ],
   "metadata": {
    "pycharm": {
     "name": "#%% md\n"
    }
   }
  },
  {
   "cell_type": "markdown",
   "source": [
    "Создаю и заполняю новый признак country в датасете по городам."
   ],
   "metadata": {
    "pycharm": {
     "name": "#%% md\n"
    }
   }
  },
  {
   "cell_type": "code",
   "source": [
    "data['country'] = pd.Series(np.array([None] * data.shape[0]))\n",
    "\n",
    "for name in data.city.unique():\n",
    "    if name in cities.index:\n",
    "        try:\n",
    "            data.loc[(data.city == name), 'country'] = cities.loc[name].country\n",
    "        except:\n",
    "            data.loc[(data.city == name), 'country'] = cities.loc[name].country.values[0]"
   ],
   "metadata": {
    "collapsed": false,
    "pycharm": {
     "name": "#%%\n"
    },
    "jupyter": {
     "outputs_hidden": false
    },
    "execution": {
     "iopub.status.busy": "2021-06-23T22:22:06.42331Z",
     "iopub.execute_input": "2021-06-23T22:22:06.423609Z",
     "iopub.status.idle": "2021-06-23T22:22:07.032049Z",
     "shell.execute_reply.started": "2021-06-23T22:22:06.423554Z",
     "shell.execute_reply": "2021-06-23T22:22:07.030794Z"
    },
    "trusted": true
   },
   "execution_count": null,
   "outputs": []
  },
  {
   "cell_type": "markdown",
   "source": [
    "Проверяю заполнен ли country полностью."
   ],
   "metadata": {
    "pycharm": {
     "name": "#%% md\n"
    }
   }
  },
  {
   "cell_type": "code",
   "source": [
    "data[data.country.isnull()]"
   ],
   "metadata": {
    "collapsed": false,
    "pycharm": {
     "name": "#%%\n"
    },
    "jupyter": {
     "outputs_hidden": false
    },
    "execution": {
     "iopub.status.busy": "2021-06-23T22:22:07.033577Z",
     "iopub.execute_input": "2021-06-23T22:22:07.033884Z",
     "iopub.status.idle": "2021-06-23T22:22:07.079785Z",
     "shell.execute_reply.started": "2021-06-23T22:22:07.033829Z",
     "shell.execute_reply": "2021-06-23T22:22:07.078933Z"
    },
    "trusted": true
   },
   "execution_count": null,
   "outputs": []
  },
  {
   "cell_type": "markdown",
   "source": [
    "Заполняю вручную отстутствующие значения для новых признаков."
   ],
   "metadata": {
    "pycharm": {
     "name": "#%% md\n"
    }
   }
  },
  {
   "cell_type": "code",
   "source": [
    "data.loc[(data.city == 'Oporto'), 'country'] = 'Portugal'\n",
    "data.loc[(data.city == 'Zurich'), 'country'] = 'Switzerland'\n",
    "data.loc[(data.city == 'Krakow'), 'country'] = 'Poland'\n",
    "\n",
    "data[data.country.isnull()]"
   ],
   "metadata": {
    "collapsed": false,
    "pycharm": {
     "name": "#%%\n"
    },
    "jupyter": {
     "outputs_hidden": false
    },
    "execution": {
     "iopub.status.busy": "2021-06-23T22:22:07.08132Z",
     "iopub.execute_input": "2021-06-23T22:22:07.081614Z",
     "iopub.status.idle": "2021-06-23T22:22:07.139279Z",
     "shell.execute_reply.started": "2021-06-23T22:22:07.08156Z",
     "shell.execute_reply": "2021-06-23T22:22:07.138565Z"
    },
    "trusted": true
   },
   "execution_count": null,
   "outputs": []
  },
  {
   "cell_type": "markdown",
   "source": [
    "#### Признак cuisine_style и cuisine_count\n",
    "\n",
    "**23% (11590) неизвестных значений** \n",
    "\n",
    "В данном столбце каждая ячейка - строка.\n",
    "\n",
    "Преобразую формат ячеек из строки в настоящий лист со строками."
   ],
   "metadata": {}
  },
  {
   "cell_type": "markdown",
   "source": [
    "Посчитаю процентное соотношение неизвестных значений."
   ],
   "metadata": {
    "execution": {
     "iopub.status.busy": "2021-06-23T13:24:37.088546Z",
     "iopub.execute_input": "2021-06-23T13:24:37.088793Z",
     "iopub.status.idle": "2021-06-23T13:24:37.331123Z",
     "shell.execute_reply.started": "2021-06-23T13:24:37.088747Z",
     "shell.execute_reply": "2021-06-23T13:24:37.330243Z"
    },
    "pycharm": {
     "name": "#%% md\n"
    },
    "trusted": true
   }
  },
  {
   "cell_type": "code",
   "source": [
    "stats = data['cuisine_style'].isnull().value_counts()\n",
    "print(stats)\n",
    "print(100 * stats[1] / (stats[0] + stats[1]))"
   ],
   "metadata": {
    "collapsed": false,
    "pycharm": {
     "name": "#%%\n"
    },
    "jupyter": {
     "outputs_hidden": false
    },
    "execution": {
     "iopub.status.busy": "2021-06-23T22:22:07.140364Z",
     "iopub.execute_input": "2021-06-23T22:22:07.140714Z",
     "iopub.status.idle": "2021-06-23T22:22:07.157215Z",
     "shell.execute_reply.started": "2021-06-23T22:22:07.14062Z",
     "shell.execute_reply": "2021-06-23T22:22:07.155733Z"
    },
    "trusted": true
   },
   "execution_count": null,
   "outputs": []
  },
  {
   "cell_type": "markdown",
   "source": [
    "Привожу формат ячейки из формата строки в формат листа, состоящего из строк."
   ],
   "metadata": {
    "pycharm": {
     "name": "#%% md\n"
    }
   }
  },
  {
   "cell_type": "code",
   "source": [
    "df_cuisine_style = pd.DataFrame(data['cuisine_style'])\n",
    "df_cuisine_style['cuisine_style'] = df_cuisine_style['cuisine_style'].str.strip('[]')\n",
    "df_cuisine_style['cuisine_style'] = df_cuisine_style['cuisine_style'].str.replace('\\'', '')\n",
    "data['cuisine_style'] = df_cuisine_style['cuisine_style'].str.split(', ')"
   ],
   "metadata": {
    "execution": {
     "iopub.status.busy": "2021-06-23T22:22:07.158577Z",
     "iopub.execute_input": "2021-06-23T22:22:07.158942Z",
     "iopub.status.idle": "2021-06-23T22:22:07.324596Z",
     "shell.execute_reply.started": "2021-06-23T22:22:07.158893Z",
     "shell.execute_reply": "2021-06-23T22:22:07.323661Z"
    },
    "trusted": true
   },
   "execution_count": null,
   "outputs": []
  },
  {
   "cell_type": "markdown",
   "source": [
    "Чтобы найти самую часто встречающуюся кухню нужно использовать ***explode***.\n",
    "Для этого создаю копию датасета df_cuisine_style_explode, чтобы не повлияло на оригинал."
   ],
   "metadata": {}
  },
  {
   "cell_type": "code",
   "source": [
    "df_cuisine_style_explode = data.explode('cuisine_style')\n",
    "df_cuisine_style_explode.sample(5)"
   ],
   "metadata": {
    "execution": {
     "iopub.status.busy": "2021-06-23T22:22:07.326111Z",
     "iopub.execute_input": "2021-06-23T22:22:07.326459Z",
     "iopub.status.idle": "2021-06-23T22:22:07.792527Z",
     "shell.execute_reply.started": "2021-06-23T22:22:07.326359Z",
     "shell.execute_reply": "2021-06-23T22:22:07.791753Z"
    },
    "trusted": true
   },
   "execution_count": null,
   "outputs": []
  },
  {
   "cell_type": "code",
   "source": [
    "data[data.cuisine_style_is_nan == 1].head()"
   ],
   "metadata": {
    "execution": {
     "iopub.status.busy": "2021-06-23T22:22:07.793646Z",
     "iopub.execute_input": "2021-06-23T22:22:07.794004Z",
     "iopub.status.idle": "2021-06-23T22:22:07.820553Z",
     "shell.execute_reply.started": "2021-06-23T22:22:07.793967Z",
     "shell.execute_reply": "2021-06-23T22:22:07.819516Z"
    },
    "trusted": true
   },
   "execution_count": null,
   "outputs": []
  },
  {
   "cell_type": "markdown",
   "source": [
    "Заполняю неизвестные значения самой популярной кухней в городе. Можно попробовать по странам, но лучше распределение получилось по городам."
   ],
   "metadata": {}
  },
  {
   "cell_type": "code",
   "source": [
    "for name in data.city.unique():\n",
    "    cuisine = common_cuisine(df_cuisine_style_explode, name, by_country=False)\n",
    "    data.loc[(data.city == name) & (data.cuisine_style_is_nan == 1), 'cuisine_style'] = cuisine"
   ],
   "metadata": {
    "execution": {
     "iopub.status.busy": "2021-06-23T22:22:07.821951Z",
     "iopub.execute_input": "2021-06-23T22:22:07.822285Z",
     "iopub.status.idle": "2021-06-23T22:22:09.011897Z",
     "shell.execute_reply.started": "2021-06-23T22:22:07.822229Z",
     "shell.execute_reply": "2021-06-23T22:22:09.010991Z"
    },
    "trusted": true
   },
   "execution_count": null,
   "outputs": []
  },
  {
   "cell_type": "code",
   "source": [
    "data.cuisine_style_is_nan.value_counts()"
   ],
   "metadata": {
    "execution": {
     "iopub.status.busy": "2021-06-23T22:22:09.013526Z",
     "iopub.execute_input": "2021-06-23T22:22:09.013815Z",
     "iopub.status.idle": "2021-06-23T22:22:09.023019Z",
     "shell.execute_reply.started": "2021-06-23T22:22:09.013761Z",
     "shell.execute_reply": "2021-06-23T22:22:09.021944Z"
    },
    "trusted": true
   },
   "execution_count": null,
   "outputs": []
  },
  {
   "cell_type": "code",
   "source": [
    "data.cuisine_style.isnull().value_counts()"
   ],
   "metadata": {
    "execution": {
     "iopub.status.busy": "2021-06-23T22:22:09.024504Z",
     "iopub.execute_input": "2021-06-23T22:22:09.024797Z",
     "iopub.status.idle": "2021-06-23T22:22:09.044086Z",
     "shell.execute_reply.started": "2021-06-23T22:22:09.02475Z",
     "shell.execute_reply": "2021-06-23T22:22:09.042851Z"
    },
    "trusted": true
   },
   "execution_count": null,
   "outputs": []
  },
  {
   "cell_type": "code",
   "source": [
    "data[data.cuisine_style_is_nan == 1].head()"
   ],
   "metadata": {
    "execution": {
     "iopub.status.busy": "2021-06-23T22:22:09.045844Z",
     "iopub.execute_input": "2021-06-23T22:22:09.046378Z",
     "iopub.status.idle": "2021-06-23T22:22:09.075312Z",
     "shell.execute_reply.started": "2021-06-23T22:22:09.046309Z",
     "shell.execute_reply": "2021-06-23T22:22:09.074303Z"
    },
    "trusted": true
   },
   "execution_count": null,
   "outputs": []
  },
  {
   "cell_type": "markdown",
   "source": [
    "#### Новый признак cuisine_count\n",
    "Создаю новый признак - количество видов кухонь предлагаемых в ресторане.\n",
    "Если значение **cuisine_style** неизвестно, то по дефолту **cuisine_count** равен 1."
   ],
   "metadata": {
    "execution": {
     "iopub.status.busy": "2021-05-27T16:38:20.407583Z",
     "iopub.execute_input": "2021-05-27T16:38:20.408064Z",
     "iopub.status.idle": "2021-05-27T16:38:20.414801Z",
     "shell.execute_reply.started": "2021-05-27T16:38:20.408004Z",
     "shell.execute_reply": "2021-05-27T16:38:20.413437Z"
    }
   }
  },
  {
   "cell_type": "code",
   "source": [
    "data['cuisine_count'] = data['cuisine_style'].apply(\n",
    "    lambda cuisines: 1 if str(cuisines) == 'nan' else len(cuisines)\n",
    ")\n",
    "data[['cuisine_style', 'cuisine_count']].head(10)"
   ],
   "metadata": {
    "execution": {
     "iopub.status.busy": "2021-06-23T22:22:09.076766Z",
     "iopub.execute_input": "2021-06-23T22:22:09.077053Z",
     "iopub.status.idle": "2021-06-23T22:22:09.166878Z",
     "shell.execute_reply.started": "2021-06-23T22:22:09.077002Z",
     "shell.execute_reply": "2021-06-23T22:22:09.166067Z"
    },
    "trusted": true
   },
   "execution_count": null,
   "outputs": []
  },
  {
   "cell_type": "markdown",
   "source": [
    "#### Признак price_range \n",
    "\n",
    "**34.7% (17361) неизвестных значений.** \n",
    " \n",
    "Так как 70.6% ресторанов в ценовом диапазоне от  10-999 долларов, то все неизвестные значения ресторанов будут заменены на этот ценовой диапазон. "
   ],
   "metadata": {}
  },
  {
   "cell_type": "code",
   "source": [
    "stats = data.price_range.isna().value_counts()\n",
    "stats[1] * 100 / (stats[0] + stats[1])"
   ],
   "metadata": {
    "execution": {
     "iopub.status.busy": "2021-06-23T22:22:09.168627Z",
     "iopub.execute_input": "2021-06-23T22:22:09.168902Z",
     "iopub.status.idle": "2021-06-23T22:22:09.182205Z",
     "shell.execute_reply.started": "2021-06-23T22:22:09.168851Z",
     "shell.execute_reply": "2021-06-23T22:22:09.181236Z"
    },
    "trusted": true
   },
   "execution_count": null,
   "outputs": []
  },
  {
   "cell_type": "code",
   "source": [
    "common_price = data.price_range.value_counts().index[0]"
   ],
   "metadata": {
    "execution": {
     "iopub.status.busy": "2021-06-23T22:22:09.183628Z",
     "iopub.execute_input": "2021-06-23T22:22:09.183912Z",
     "iopub.status.idle": "2021-06-23T22:22:09.203793Z",
     "shell.execute_reply.started": "2021-06-23T22:22:09.183853Z",
     "shell.execute_reply": "2021-06-23T22:22:09.202631Z"
    },
    "trusted": true
   },
   "execution_count": null,
   "outputs": []
  },
  {
   "cell_type": "code",
   "source": [
    "y = data.price_range.value_counts().values\n",
    "graph = plt.bar(['Средняя цена', 'Дешево', 'Дорого'], y, color='pink')"
   ],
   "metadata": {
    "execution": {
     "iopub.status.busy": "2021-06-23T22:22:09.205361Z",
     "iopub.execute_input": "2021-06-23T22:22:09.205646Z",
     "iopub.status.idle": "2021-06-23T22:22:09.463689Z",
     "shell.execute_reply.started": "2021-06-23T22:22:09.205593Z",
     "shell.execute_reply": "2021-06-23T22:22:09.46265Z"
    },
    "trusted": true
   },
   "execution_count": null,
   "outputs": []
  },
  {
   "cell_type": "code",
   "source": [
    "data.price_range.fillna(common_price, inplace=True)\n",
    "data.price_range "
   ],
   "metadata": {
    "execution": {
     "iopub.status.busy": "2021-06-23T22:22:09.465545Z",
     "iopub.execute_input": "2021-06-23T22:22:09.466203Z",
     "iopub.status.idle": "2021-06-23T22:22:09.487553Z",
     "shell.execute_reply.started": "2021-06-23T22:22:09.466118Z",
     "shell.execute_reply": "2021-06-23T22:22:09.486221Z"
    },
    "trusted": true
   },
   "execution_count": null,
   "outputs": []
  },
  {
   "cell_type": "markdown",
   "source": [
    "#### Признак reviews\n",
    "**2 незивестных значения.**\n",
    "\n",
    "Без ревью нет рейтинга, а целевая переменная - рейтинг.\n",
    "\n",
    "Соответсвенно нам такие данные не нужны. Можно их удалить."
   ],
   "metadata": {}
  },
  {
   "cell_type": "code",
   "source": [
    "display(data[data['reviews_is_nan'] == 1])"
   ],
   "metadata": {
    "execution": {
     "iopub.status.busy": "2021-06-23T22:22:09.501516Z",
     "iopub.execute_input": "2021-06-23T22:22:09.502034Z",
     "iopub.status.idle": "2021-06-23T22:22:09.537461Z",
     "shell.execute_reply.started": "2021-06-23T22:22:09.501939Z",
     "shell.execute_reply": "2021-06-23T22:22:09.536437Z"
    },
    "trusted": true
   },
   "execution_count": null,
   "outputs": []
  },
  {
   "cell_type": "markdown",
   "source": [
    "Также удаляем поле reviews_is_nan т.к. оно больше ни на что не влияет"
   ],
   "metadata": {}
  },
  {
   "cell_type": "code",
   "source": [
    "data['reviews'] = data['reviews'].dropna(axis=0)\n",
    "del data['reviews_is_nan']"
   ],
   "metadata": {
    "execution": {
     "iopub.status.busy": "2021-06-23T22:22:09.539368Z",
     "iopub.execute_input": "2021-06-23T22:22:09.539892Z",
     "iopub.status.idle": "2021-06-23T22:22:09.563415Z",
     "shell.execute_reply.started": "2021-06-23T22:22:09.539808Z",
     "shell.execute_reply": "2021-06-23T22:22:09.562442Z"
    },
    "trusted": true
   },
   "execution_count": null,
   "outputs": []
  },
  {
   "cell_type": "markdown",
   "source": [
    "#### Новые признаки review_ton_1, review_ton_2, reviews_days_diff\n",
    "Создаю новые признаки:\n",
    "\n",
    "review_ton_1, review_ton_2 - тональные окраски двух последних ревью\n",
    "\n",
    "review_days_diff - количество дней прошедших между ними\n",
    "\n",
    "Для этого необходим распарсить строковые значения и перевести в формат даты. "
   ],
   "metadata": {}
  },
  {
   "cell_type": "code",
   "source": [
    "parse_reviews(data)\n",
    "data.sample(5)"
   ],
   "metadata": {
    "execution": {
     "iopub.status.busy": "2021-06-23T22:22:09.565079Z",
     "iopub.execute_input": "2021-06-23T22:22:09.565473Z",
     "iopub.status.idle": "2021-06-23T22:23:11.930607Z",
     "shell.execute_reply.started": "2021-06-23T22:22:09.565404Z",
     "shell.execute_reply": "2021-06-23T22:23:11.929593Z"
    },
    "trusted": true
   },
   "execution_count": null,
   "outputs": []
  },
  {
   "cell_type": "code",
   "source": [
    "data.sort_values(by=['reviews_days_diff']).head(5)"
   ],
   "metadata": {
    "execution": {
     "iopub.status.busy": "2021-06-23T22:23:11.932625Z",
     "iopub.execute_input": "2021-06-23T22:23:11.933017Z",
     "iopub.status.idle": "2021-06-23T22:23:11.990277Z",
     "shell.execute_reply.started": "2021-06-23T22:23:11.932942Z",
     "shell.execute_reply": "2021-06-23T22:23:11.989114Z"
    },
    "trusted": true
   },
   "execution_count": null,
   "outputs": []
  },
  {
   "cell_type": "markdown",
   "source": [
    "#### Признак number_of_reviews\n",
    "6.4% (3200) неизвестных значений. \n",
    "\n",
    "Между **number_of_reviews** и **cuisine_count** имеется средняя позитивная корреляция 0.4. Также, между **number_of_reviews** и **ranking** существует слабая негативная корреляция -0.2. График медианного значения кол-ва отзывов по кол-ву видов кухни показывает то, что в принципе медианное количество отзывов разнится между ресторанами, предлагающими разное количество видов кухонь. В связи с чем заполняю неизвестные значения ресторана медианным значением той группы ресторанов, сгруппированных по кол-ву видов кухни, в которую он квалифицируется. "
   ],
   "metadata": {
    "execution": {
     "iopub.status.busy": "2021-05-27T17:53:23.543605Z",
     "iopub.execute_input": "2021-05-27T17:53:23.543918Z",
     "iopub.status.idle": "2021-05-27T17:53:23.547584Z",
     "shell.execute_reply.started": "2021-05-27T17:53:23.543866Z",
     "shell.execute_reply": "2021-05-27T17:53:23.546632Z"
    }
   }
  },
  {
   "cell_type": "code",
   "source": [
    "data[data['number_of_reviews_is_nan'] == 1].shape[0] / data.shape[0] * 100"
   ],
   "metadata": {
    "execution": {
     "iopub.status.busy": "2021-06-23T22:23:11.992113Z",
     "iopub.execute_input": "2021-06-23T22:23:11.992413Z",
     "iopub.status.idle": "2021-06-23T22:23:12.004872Z",
     "shell.execute_reply.started": "2021-06-23T22:23:11.992363Z",
     "shell.execute_reply": "2021-06-23T22:23:12.003593Z"
    },
    "trusted": true
   },
   "execution_count": null,
   "outputs": []
  },
  {
   "cell_type": "code",
   "source": [
    "sns.set(rc={'figure.figsize': (11, 8)}, font_scale=1.5, style='whitegrid')\n",
    "print(data.select_dtypes('number').corr().loc['number_of_reviews'].sort_values())\n",
    "\n",
    "sns.heatmap(data.select_dtypes('number').corr())"
   ],
   "metadata": {
    "execution": {
     "iopub.status.busy": "2021-06-23T22:23:12.006931Z",
     "iopub.execute_input": "2021-06-23T22:23:12.007344Z",
     "iopub.status.idle": "2021-06-23T22:23:12.598593Z",
     "shell.execute_reply.started": "2021-06-23T22:23:12.007273Z",
     "shell.execute_reply": "2021-06-23T22:23:12.597461Z"
    },
    "trusted": true
   },
   "execution_count": null,
   "outputs": []
  },
  {
   "cell_type": "code",
   "source": [
    "plt.scatter(data.number_of_reviews, data.ranking)\n",
    "plt.title(\"ranking vs number_of_reviews\")\n",
    "plt.xlabel(\"number_of_reviews\")\n",
    "plt.ylabel(\"ranking\")\n",
    "plt.show()"
   ],
   "metadata": {
    "execution": {
     "iopub.status.busy": "2021-06-23T22:23:12.600366Z",
     "iopub.execute_input": "2021-06-23T22:23:12.600959Z",
     "iopub.status.idle": "2021-06-23T22:23:13.533299Z",
     "shell.execute_reply.started": "2021-06-23T22:23:12.600886Z",
     "shell.execute_reply": "2021-06-23T22:23:13.532319Z"
    },
    "trusted": true
   },
   "execution_count": null,
   "outputs": []
  },
  {
   "cell_type": "code",
   "source": [
    "plt.scatter(data.cuisine_count, data.number_of_reviews)\n",
    "plt.title(\"cuisine_count vs number_of_reviews\")\n",
    "plt.xlabel(\"cuisine_count\")\n",
    "plt.ylabel(\"number_of_reviews\")\n",
    "plt.show()"
   ],
   "metadata": {
    "execution": {
     "iopub.status.busy": "2021-06-23T22:23:13.534964Z",
     "iopub.execute_input": "2021-06-23T22:23:13.535366Z",
     "iopub.status.idle": "2021-06-23T22:23:14.481042Z",
     "shell.execute_reply.started": "2021-06-23T22:23:13.535295Z",
     "shell.execute_reply": "2021-06-23T22:23:14.479545Z"
    },
    "trusted": true
   },
   "execution_count": null,
   "outputs": []
  },
  {
   "cell_type": "code",
   "source": [
    "data.number_of_reviews.describe()"
   ],
   "metadata": {
    "execution": {
     "iopub.status.busy": "2021-06-23T22:23:14.482835Z",
     "iopub.execute_input": "2021-06-23T22:23:14.483279Z",
     "iopub.status.idle": "2021-06-23T22:23:14.500797Z",
     "shell.execute_reply.started": "2021-06-23T22:23:14.483205Z",
     "shell.execute_reply": "2021-06-23T22:23:14.499307Z"
    },
    "trusted": true
   },
   "execution_count": null,
   "outputs": []
  },
  {
   "cell_type": "markdown",
   "source": [
    "Разница между средним значением и медианой большая: есть большие выбросы, влияющие сильно на среднее значение. "
   ],
   "metadata": {}
  },
  {
   "cell_type": "code",
   "source": [
    "print(data.number_of_reviews.mean())\n",
    "print(data.number_of_reviews.median())\n",
    "print(data.number_of_reviews.std())"
   ],
   "metadata": {
    "execution": {
     "iopub.status.busy": "2021-06-23T22:23:14.50246Z",
     "iopub.execute_input": "2021-06-23T22:23:14.502851Z",
     "iopub.status.idle": "2021-06-23T22:23:14.511953Z",
     "shell.execute_reply.started": "2021-06-23T22:23:14.50278Z",
     "shell.execute_reply": "2021-06-23T22:23:14.510742Z"
    },
    "trusted": true
   },
   "execution_count": null,
   "outputs": []
  },
  {
   "cell_type": "code",
   "source": [
    "# Вычислить медиану для каждой группы рестроранов, сгруппированных по кол-ву предлагаемых видов кухни. \n",
    "reviews_count_data = pd.DataFrame(data.groupby('cuisine_count').median().number_of_reviews)\n",
    "plot = reviews_count_data.plot.bar(title='Медианное значение кол-ва отзывов по кол-ву видов кухни')\n",
    "for p in plot.patches:\n",
    "    plot.annotate(str(int(p.get_height())), (p.get_x(), p.get_height()), color='purple')"
   ],
   "metadata": {
    "execution": {
     "iopub.status.busy": "2021-06-23T22:23:14.513702Z",
     "iopub.execute_input": "2021-06-23T22:23:14.514156Z",
     "iopub.status.idle": "2021-06-23T22:23:14.991123Z",
     "shell.execute_reply.started": "2021-06-23T22:23:14.514085Z",
     "shell.execute_reply": "2021-06-23T22:23:14.990318Z"
    },
    "trusted": true
   },
   "execution_count": null,
   "outputs": []
  },
  {
   "cell_type": "code",
   "source": [
    "# Заполнить неизвестные значения медианой соответсвенно группе, которой принадлежит ресторан. \n",
    "data.number_of_reviews = data.apply(\n",
    "    lambda row: (reviews_count_data.loc[row.cuisine_count])[0]\n",
    "    if np.isnan(row.number_of_reviews) else row.number_of_reviews,\n",
    "    axis=1\n",
    ")"
   ],
   "metadata": {
    "execution": {
     "iopub.status.busy": "2021-06-23T22:23:14.992657Z",
     "iopub.execute_input": "2021-06-23T22:23:14.992945Z",
     "iopub.status.idle": "2021-06-23T22:23:18.440537Z",
     "shell.execute_reply.started": "2021-06-23T22:23:14.992893Z",
     "shell.execute_reply": "2021-06-23T22:23:18.439622Z"
    },
    "trusted": true
   },
   "execution_count": null,
   "outputs": []
  },
  {
   "cell_type": "markdown",
   "source": [
    "### 1.3 Категоризация признаков"
   ],
   "metadata": {}
  },
  {
   "cell_type": "markdown",
   "source": [
    "#### 1.3.1 Категориальные (номинативные) признаки."
   ],
   "metadata": {}
  },
  {
   "cell_type": "code",
   "source": [
    "# Выбрать только нечисловые столбцы. \n",
    "nominative = data.select_dtypes('object')\n",
    "nominative.sample(3)"
   ],
   "metadata": {
    "execution": {
     "iopub.status.busy": "2021-06-23T22:23:18.442238Z",
     "iopub.execute_input": "2021-06-23T22:23:18.442856Z",
     "iopub.status.idle": "2021-06-23T22:23:18.482494Z",
     "shell.execute_reply.started": "2021-06-23T22:23:18.442538Z",
     "shell.execute_reply": "2021-06-23T22:23:18.481489Z"
    },
    "trusted": true
   },
   "execution_count": null,
   "outputs": []
  },
  {
   "cell_type": "markdown",
   "source": [
    "#### 1.3.2 Ординальные признаки"
   ],
   "metadata": {
    "execution": {
     "iopub.status.busy": "2021-05-28T19:15:00.583772Z",
     "iopub.execute_input": "2021-05-28T19:15:00.584155Z",
     "iopub.status.idle": "2021-05-28T19:15:00.609355Z",
     "shell.execute_reply.started": "2021-05-28T19:15:00.584039Z",
     "shell.execute_reply": "2021-05-28T19:15:00.608229Z"
    }
   }
  },
  {
   "cell_type": "markdown",
   "source": [
    "Ординальные признаками являются **ranking**, **price_range**, **rating**, так как их можно по смыслу расставить по возрастанию. "
   ],
   "metadata": {}
  },
  {
   "cell_type": "code",
   "source": [
    "data.price_range = data.price_range.map({'$': 0, '$$ - $$$': 1, '$$$$': 2})"
   ],
   "metadata": {
    "execution": {
     "iopub.status.busy": "2021-06-23T22:23:18.483834Z",
     "iopub.execute_input": "2021-06-23T22:23:18.484111Z",
     "iopub.status.idle": "2021-06-23T22:23:18.505312Z",
     "shell.execute_reply.started": "2021-06-23T22:23:18.484061Z",
     "shell.execute_reply": "2021-06-23T22:23:18.504244Z"
    },
    "trusted": true
   },
   "execution_count": null,
   "outputs": []
  },
  {
   "cell_type": "markdown",
   "source": [
    "#### 1.3.3 Числовые признаки"
   ],
   "metadata": {
    "execution": {
     "iopub.status.busy": "2021-05-28T19:31:37.959068Z",
     "iopub.execute_input": "2021-05-28T19:31:37.959401Z",
     "iopub.status.idle": "2021-05-28T19:31:37.964458Z",
     "shell.execute_reply.started": "2021-05-28T19:31:37.959352Z",
     "shell.execute_reply": "2021-05-28T19:31:37.96297Z"
    }
   }
  },
  {
   "cell_type": "code",
   "source": [
    "# Выбрать только числовые столбцы. \n",
    "numerical = data.select_dtypes('number')\n",
    "numerical.sample(3)"
   ],
   "metadata": {
    "execution": {
     "iopub.status.busy": "2021-06-23T22:23:18.506834Z",
     "iopub.execute_input": "2021-06-23T22:23:18.507137Z",
     "iopub.status.idle": "2021-06-23T22:23:18.540965Z",
     "shell.execute_reply.started": "2021-06-23T22:23:18.507081Z",
     "shell.execute_reply": "2021-06-23T22:23:18.539907Z"
    },
    "trusted": true
   },
   "execution_count": null,
   "outputs": []
  },
  {
   "cell_type": "markdown",
   "source": [
    "## Feature Engineering, обработка новых признаков и РАД\n",
    "\n",
    "Создаю новые признаки, путем добавления информации из других датасетов, импортированных ранее. "
   ],
   "metadata": {}
  },
  {
   "cell_type": "markdown",
   "source": [
    "### Новые признаки **capital**, **is_capital**, **population**, **coastline**, **gdp**, **phones**, **agriculture**, **service**"
   ],
   "metadata": {}
  },
  {
   "cell_type": "code",
   "source": [
    "new_cols = ['country', 'capital', 'population', 'coastline', 'gdp', 'phones', 'agriculture', 'service']\n",
    "for col in new_cols:\n",
    "    data[col] = pd.Series(np.array([None] * data.shape[0]))\n",
    "\n",
    "# Заполнить значения новых признаков в главном датасете с помощью датасета о городах. \n",
    "for city_name in data.city.unique():\n",
    "    if city_name in cities.index:\n",
    "        try:\n",
    "            data.loc[(data.city == city_name), 'country'] = cities.loc[city_name].country\n",
    "            data.loc[(data.city == city_name), 'population'] = int(cities.loc[city_name].population)\n",
    "        except:\n",
    "            data.loc[(data.city == city_name), 'country'] = cities.loc[city_name].country.values[0]\n",
    "            data.loc[(data.city == city_name), 'population'] = int(cities.loc[city_name].population.values[0])\n",
    "\n",
    "for country_name in data.country.unique():\n",
    "    if country_name in capitals.index:\n",
    "        data.loc[data.country == country_name, 'capital'] = capitals.loc[country_name].capital\n",
    "    if country_name in countries.index:\n",
    "        for col in ['coastline', 'gdp', 'phones', 'agriculture', 'service']:\n",
    "            data.loc[data.country == country_name, col] = countries.loc[country_name][col]\n",
    "data[new_cols]"
   ],
   "metadata": {
    "execution": {
     "iopub.status.busy": "2021-06-23T22:23:18.542639Z",
     "iopub.execute_input": "2021-06-23T22:23:18.543015Z",
     "iopub.status.idle": "2021-06-23T22:23:20.991564Z",
     "shell.execute_reply.started": "2021-06-23T22:23:18.542946Z",
     "shell.execute_reply": "2021-06-23T22:23:20.990667Z"
    },
    "trusted": true
   },
   "execution_count": null,
   "outputs": []
  },
  {
   "cell_type": "code",
   "source": [
    "to_change = ['coastline', 'phones', 'agriculture', 'service', 'gdp']\n",
    "for col in to_change:\n",
    "    data[col] = pd.to_numeric(data[col].astype(str).str.replace(',', '.'), errors='coerce')"
   ],
   "metadata": {
    "execution": {
     "iopub.status.busy": "2021-06-23T22:23:20.99446Z",
     "iopub.execute_input": "2021-06-23T22:23:20.994867Z",
     "iopub.status.idle": "2021-06-23T22:23:21.435651Z",
     "shell.execute_reply.started": "2021-06-23T22:23:20.994792Z",
     "shell.execute_reply": "2021-06-23T22:23:21.434557Z"
    },
    "trusted": true
   },
   "execution_count": null,
   "outputs": []
  },
  {
   "cell_type": "code",
   "source": [
    "data[new_cols]"
   ],
   "metadata": {
    "execution": {
     "iopub.status.busy": "2021-06-23T22:23:21.436948Z",
     "iopub.execute_input": "2021-06-23T22:23:21.437218Z",
     "iopub.status.idle": "2021-06-23T22:23:21.464492Z",
     "shell.execute_reply.started": "2021-06-23T22:23:21.437179Z",
     "shell.execute_reply": "2021-06-23T22:23:21.46353Z"
    },
    "trusted": true
   },
   "execution_count": null,
   "outputs": []
  },
  {
   "cell_type": "code",
   "source": [
    "# Проверить в каких новых признаках имеются неизвестные значения.\n",
    "fig, ax = plt.subplots(figsize=(8, 8))\n",
    "missin.matrix(data, ax=ax, sparkline=False)"
   ],
   "metadata": {
    "execution": {
     "iopub.status.busy": "2021-06-23T22:23:21.466024Z",
     "iopub.execute_input": "2021-06-23T22:23:21.466575Z",
     "iopub.status.idle": "2021-06-23T22:23:22.213355Z",
     "shell.execute_reply.started": "2021-06-23T22:23:21.466517Z",
     "shell.execute_reply": "2021-06-23T22:23:22.212197Z"
    },
    "trusted": true
   },
   "execution_count": null,
   "outputs": []
  },
  {
   "cell_type": "code",
   "source": [
    "# Заполнить вручную отстутствующие значения для популяции и стран.\n",
    "data.loc[(data.city == 'Oporto'), 'population'] = 214349\n",
    "data.loc[(data.city == 'Zurich'), 'population'] = 402762\n",
    "data.loc[(data.city == 'Krakow'), 'population'] = 766683\n",
    "\n",
    "data.loc[(data.city == 'Oporto'), 'country'] = 'Portugal'\n",
    "data.loc[(data.city == 'Zurich'), 'country'] = 'Switzerland'\n",
    "data.loc[(data.city == 'Krakow'), 'country'] = 'Poland'"
   ],
   "metadata": {
    "execution": {
     "iopub.status.busy": "2021-06-23T22:23:22.214694Z",
     "iopub.execute_input": "2021-06-23T22:23:22.214987Z",
     "iopub.status.idle": "2021-06-23T22:23:22.311191Z",
     "shell.execute_reply.started": "2021-06-23T22:23:22.214936Z",
     "shell.execute_reply": "2021-06-23T22:23:22.310517Z"
    },
    "trusted": true
   },
   "execution_count": null,
   "outputs": []
  },
  {
   "cell_type": "code",
   "source": [
    "# Найти для каких стран нет информации по столицам,ввп и соотношению береговой линии и заполнить вручную.\n",
    "missing = data[data.capital.isnull()]['country'].unique()\n",
    "missing_info = {\n",
    "    'Czechia': ['Prague', 23495, 0],\n",
    "    'Portugal': ['Lisbon', 23252, 0.98],\n",
    "    'Poland': ['Warsaw', 15693, 0],\n",
    "    'Switzerland': ['Bern', 81994, 0]\n",
    "}\n",
    "\n",
    "for country in missing:\n",
    "    for i, col in zip([0, 1, 2], ['capital', 'gdp', 'coastline']):\n",
    "        data.loc[(data.country == country), col] = missing_info[country][i]"
   ],
   "metadata": {
    "execution": {
     "iopub.status.busy": "2021-06-23T22:23:22.312214Z",
     "iopub.execute_input": "2021-06-23T22:23:22.312555Z",
     "iopub.status.idle": "2021-06-23T22:23:22.448465Z",
     "shell.execute_reply.started": "2021-06-23T22:23:22.312518Z",
     "shell.execute_reply": "2021-06-23T22:23:22.447795Z"
    },
    "trusted": true
   },
   "execution_count": null,
   "outputs": []
  },
  {
   "cell_type": "code",
   "source": [
    "# Создать признак is_capital\n",
    "new_cols.append('is_capital')\n",
    "data['is_capital'] = pd.Series(np.array([0] * data.shape[0]))\n",
    "for capital_name in data.capital.unique():\n",
    "    data.loc[(data.city == capital_name), 'is_capital'] = 1"
   ],
   "metadata": {
    "execution": {
     "iopub.status.busy": "2021-06-23T22:23:22.449492Z",
     "iopub.execute_input": "2021-06-23T22:23:22.449858Z",
     "iopub.status.idle": "2021-06-23T22:23:22.73077Z",
     "shell.execute_reply.started": "2021-06-23T22:23:22.449819Z",
     "shell.execute_reply": "2021-06-23T22:23:22.730099Z"
    },
    "trusted": true
   },
   "execution_count": null,
   "outputs": []
  },
  {
   "cell_type": "code",
   "source": [
    "data[['country', 'city', 'capital', 'is_capital']].sample(10)"
   ],
   "metadata": {
    "execution": {
     "iopub.status.busy": "2021-06-23T22:23:22.731773Z",
     "iopub.execute_input": "2021-06-23T22:23:22.732122Z",
     "iopub.status.idle": "2021-06-23T22:23:22.748431Z",
     "shell.execute_reply.started": "2021-06-23T22:23:22.732084Z",
     "shell.execute_reply": "2021-06-23T22:23:22.747699Z"
    },
    "trusted": true
   },
   "execution_count": null,
   "outputs": []
  },
  {
   "cell_type": "markdown",
   "source": [
    "Сервис и агрокультура не сильно разнятся по странам или ВВП, поэтому заполняю пропущенные значения средним значением. "
   ],
   "metadata": {}
  },
  {
   "cell_type": "code",
   "source": [
    "figure, axes = plt.subplots(2, 1, figsize=(15, 15))\n",
    "figure.tight_layout(pad=9.0)\n",
    "\n",
    "data.groupby('country')['service', 'agriculture'].mean().plot.bar(\n",
    "    ax=axes[0],\n",
    "    rot=90,\n",
    "    title='Развитость по сервису vs агрокультуре по странам'\n",
    ")\n",
    "data.groupby('gdp')['service', 'agriculture'].mean().plot.bar(\n",
    "    ax=axes[1],\n",
    "    rot=90,\n",
    "    title='Развитость по сервису vs агрокультуре по ВВП'\n",
    ")"
   ],
   "metadata": {
    "execution": {
     "iopub.status.busy": "2021-06-23T22:23:22.749823Z",
     "iopub.execute_input": "2021-06-23T22:23:22.750128Z",
     "iopub.status.idle": "2021-06-23T22:23:24.01112Z",
     "shell.execute_reply.started": "2021-06-23T22:23:22.750072Z",
     "shell.execute_reply": "2021-06-23T22:23:24.010266Z"
    },
    "trusted": true
   },
   "execution_count": null,
   "outputs": []
  },
  {
   "cell_type": "code",
   "source": [
    "data['service'].fillna(data['service'].mean(), inplace=True)\n",
    "data['agriculture'].fillna(data['agriculture'].mean(), inplace=True)"
   ],
   "metadata": {
    "execution": {
     "iopub.status.busy": "2021-06-23T22:23:24.012526Z",
     "iopub.execute_input": "2021-06-23T22:23:24.012779Z",
     "iopub.status.idle": "2021-06-23T22:23:24.019973Z",
     "shell.execute_reply.started": "2021-06-23T22:23:24.012736Z",
     "shell.execute_reply": "2021-06-23T22:23:24.018845Z"
    },
    "trusted": true
   },
   "execution_count": null,
   "outputs": []
  },
  {
   "cell_type": "markdown",
   "source": [
    "Пропущенные значения кол-ва телефонов заменяю медианой, так как значения по странам и ВВП разнятся.  "
   ],
   "metadata": {}
  },
  {
   "cell_type": "code",
   "source": [
    "figure, axes = plt.subplots(2, 1, figsize=(15, 15))\n",
    "figure.tight_layout(pad=10)\n",
    "data.groupby('country')['phones'].mean().plot.bar(\n",
    "    ax=axes[0],\n",
    "    rot=90,\n",
    "    title='Кол-во телефонов на 1000 человек по странам',\n",
    "    color='orange'\n",
    ")\n",
    "data.groupby('gdp')['phones'].mean().plot.bar(\n",
    "    ax=axes[1],\n",
    "    rot=90,\n",
    "    title='Кол-во телефонов на 1000 человек по ВВП',\n",
    "    color='purple'\n",
    ")\n",
    "plt.show()"
   ],
   "metadata": {
    "execution": {
     "iopub.status.busy": "2021-06-23T22:23:24.021487Z",
     "iopub.execute_input": "2021-06-23T22:23:24.021756Z",
     "iopub.status.idle": "2021-06-23T22:23:25.030563Z",
     "shell.execute_reply.started": "2021-06-23T22:23:24.021711Z",
     "shell.execute_reply": "2021-06-23T22:23:25.02954Z"
    },
    "trusted": true
   },
   "execution_count": null,
   "outputs": []
  },
  {
   "cell_type": "code",
   "source": [
    "data['phones'].fillna(data['phones'].median(), inplace=True)"
   ],
   "metadata": {
    "execution": {
     "iopub.status.busy": "2021-06-23T22:23:25.032148Z",
     "iopub.execute_input": "2021-06-23T22:23:25.032579Z",
     "iopub.status.idle": "2021-06-23T22:23:25.03874Z",
     "shell.execute_reply.started": "2021-06-23T22:23:25.032518Z",
     "shell.execute_reply": "2021-06-23T22:23:25.037679Z"
    },
    "trusted": true
   },
   "execution_count": null,
   "outputs": []
  },
  {
   "cell_type": "code",
   "source": [
    "fig, ax = plt.subplots(figsize=(8, 8))\n",
    "missin.matrix(data, ax=ax, sparkline=False)"
   ],
   "metadata": {
    "execution": {
     "iopub.status.busy": "2021-06-23T22:23:25.040331Z",
     "iopub.execute_input": "2021-06-23T22:23:25.040879Z",
     "iopub.status.idle": "2021-06-23T22:23:25.757692Z",
     "shell.execute_reply.started": "2021-06-23T22:23:25.040652Z",
     "shell.execute_reply": "2021-06-23T22:23:25.756362Z"
    },
    "trusted": true
   },
   "execution_count": null,
   "outputs": []
  },
  {
   "cell_type": "markdown",
   "source": [
    "Осталось два неизвестных значения, но с ними ничего не делаю, так как они в признаке reviews, которые в модель МО не будет отправляться."
   ],
   "metadata": {
    "execution": {
     "iopub.status.busy": "2021-05-29T10:11:37.613087Z",
     "iopub.execute_input": "2021-05-29T10:11:37.613617Z",
     "iopub.status.idle": "2021-05-29T10:11:37.621417Z",
     "shell.execute_reply.started": "2021-05-29T10:11:37.613555Z",
     "shell.execute_reply": "2021-05-29T10:11:37.619772Z"
    }
   }
  },
  {
   "cell_type": "code",
   "source": [
    "data[data.isnull().any(axis=1)]"
   ],
   "metadata": {
    "execution": {
     "iopub.status.busy": "2021-06-23T22:23:25.758986Z",
     "iopub.execute_input": "2021-06-23T22:23:25.759377Z",
     "iopub.status.idle": "2021-06-23T22:23:25.88262Z",
     "shell.execute_reply.started": "2021-06-23T22:23:25.759319Z",
     "shell.execute_reply": "2021-06-23T22:23:25.881816Z"
    },
    "trusted": true
   },
   "execution_count": null,
   "outputs": []
  },
  {
   "cell_type": "markdown",
   "source": [
    "### Более подробный анализ признаков **ranking**, так как он должен быть связан с целевой переменной"
   ],
   "metadata": {}
  },
  {
   "cell_type": "code",
   "source": [
    "# Посторить распределение ранга ресторанов в общем.\n",
    "data['ranking'].hist(bins=100)"
   ],
   "metadata": {
    "execution": {
     "iopub.status.busy": "2021-06-23T22:23:25.883783Z",
     "iopub.execute_input": "2021-06-23T22:23:25.884238Z",
     "iopub.status.idle": "2021-06-23T22:23:26.412789Z",
     "shell.execute_reply.started": "2021-06-23T22:23:25.884193Z",
     "shell.execute_reply": "2021-06-23T22:23:26.411368Z"
    },
    "trusted": true
   },
   "execution_count": null,
   "outputs": []
  },
  {
   "cell_type": "code",
   "source": [
    "# Рассмотреть количество ресторанов по городам и странам\n",
    "figure, axes = plt.subplots(1, 2, figsize=(15, 15))\n",
    "figure.tight_layout(pad=4)\n",
    "data['city'].value_counts(ascending=True).plot(kind='barh', ax=axes[0])\n",
    "data['country'].value_counts(ascending=True).plot(kind='barh', ax=axes[1])"
   ],
   "metadata": {
    "execution": {
     "iopub.status.busy": "2021-06-23T22:23:26.414801Z",
     "iopub.execute_input": "2021-06-23T22:23:26.415499Z",
     "iopub.status.idle": "2021-06-23T22:23:27.499964Z",
     "shell.execute_reply.started": "2021-06-23T22:23:26.415411Z",
     "shell.execute_reply": "2021-06-23T22:23:27.499078Z"
    },
    "trusted": true
   },
   "execution_count": null,
   "outputs": []
  },
  {
   "cell_type": "code",
   "source": [
    "# Рассмотреть распределение ресторанов одного города. \n",
    "data['ranking'][data['city'] == 'London'].hist(bins=100)"
   ],
   "metadata": {
    "execution": {
     "iopub.status.busy": "2021-06-23T22:23:27.501415Z",
     "iopub.execute_input": "2021-06-23T22:23:27.501702Z",
     "iopub.status.idle": "2021-06-23T22:23:28.053178Z",
     "shell.execute_reply.started": "2021-06-23T22:23:27.501651Z",
     "shell.execute_reply": "2021-06-23T22:23:28.052096Z"
    },
    "trusted": true
   },
   "execution_count": null,
   "outputs": []
  },
  {
   "cell_type": "markdown",
   "source": [
    "Из гистограммы ниже следует то,что вероятней всего ранг ресторанов не глобальный, а локальный, то есть в каждом городе в отдельности. "
   ],
   "metadata": {}
  },
  {
   "cell_type": "code",
   "source": [
    "def show_distr(n, by='city', of='ranking', title=''):\n",
    "    top_n = (data[by].value_counts())[0:n].index\n",
    "    for x in top_n:\n",
    "        plot = data[of][data[by] == x].plot(kind='hist', legend=True, bins=100, title=title)\n",
    "    plot.legend(top_n)\n",
    "    plt.show()\n",
    "\n",
    "\n",
    "def normalise(data, by, feature):\n",
    "    feature_maxes = data.groupby(by)[feature].max()\n",
    "    return data[[by, feature]].apply(lambda row: row[feature] / feature_maxes.loc[row[by]], axis=1)\n",
    "\n",
    "\n",
    "show_distr(10, title='Распределение ранга ресторанов городов топ-10 по кол-ву ресторанов')"
   ],
   "metadata": {
    "execution": {
     "iopub.status.busy": "2021-06-23T22:23:28.054617Z",
     "iopub.execute_input": "2021-06-23T22:23:28.054882Z",
     "iopub.status.idle": "2021-06-23T22:23:32.416509Z",
     "shell.execute_reply.started": "2021-06-23T22:23:28.054839Z",
     "shell.execute_reply": "2021-06-23T22:23:32.415351Z"
    },
    "trusted": true
   },
   "execution_count": null,
   "outputs": []
  },
  {
   "cell_type": "code",
   "source": [
    "# Нормализовать переменную с целью подведения под одну шкалу ранг и создать новый признак\n",
    "data['normalised_rank'] = data['ranking']\n",
    "data['normalised_rank'] = normalise(data, 'city', 'ranking')\n",
    "data['normalised_rank']"
   ],
   "metadata": {
    "execution": {
     "iopub.status.busy": "2021-06-23T22:23:32.418275Z",
     "iopub.execute_input": "2021-06-23T22:23:32.418662Z",
     "iopub.status.idle": "2021-06-23T22:23:35.914957Z",
     "shell.execute_reply.started": "2021-06-23T22:23:32.418592Z",
     "shell.execute_reply": "2021-06-23T22:23:35.913738Z"
    },
    "trusted": true
   },
   "execution_count": null,
   "outputs": []
  },
  {
   "cell_type": "code",
   "source": [
    "# Показать распределение нового признака нормализованный ранг. \n",
    "show_distr(10, 'city', 'normalised_rank', title='Нормализованный ранг ресторанов топа-10 городов')"
   ],
   "metadata": {
    "execution": {
     "iopub.status.busy": "2021-06-23T22:23:35.916659Z",
     "iopub.execute_input": "2021-06-23T22:23:35.917076Z",
     "iopub.status.idle": "2021-06-23T22:23:39.683283Z",
     "shell.execute_reply.started": "2021-06-23T22:23:35.916998Z",
     "shell.execute_reply": "2021-06-23T22:23:39.682292Z"
    },
    "trusted": true
   },
   "execution_count": null,
   "outputs": []
  },
  {
   "cell_type": "markdown",
   "source": [
    "### Анализ целевой переменной **rating**"
   ],
   "metadata": {
    "execution": {
     "iopub.status.busy": "2021-05-29T13:56:43.656086Z",
     "iopub.execute_input": "2021-05-29T13:56:43.656402Z",
     "iopub.status.idle": "2021-05-29T13:56:43.659787Z",
     "shell.execute_reply.started": "2021-05-29T13:56:43.656356Z",
     "shell.execute_reply": "2021-05-29T13:56:43.659156Z"
    }
   }
  },
  {
   "cell_type": "code",
   "source": [
    "# Постоить гистограмму распределения рейтинга ресторанов.\n",
    "stats = data['rating'].value_counts(ascending=True).sort_index()\n",
    "plot = stats.plot(kind='bar', color='orange', title='Распределение рейтинга ресторанов')\n",
    "for p in plot.patches:\n",
    "    perc = round(int(p.get_height()) / sum(stats.values) * 100, 1)\n",
    "    plot.annotate(str(perc) + '%', (p.get_x(), p.get_height()), color='purple')"
   ],
   "metadata": {
    "execution": {
     "iopub.status.busy": "2021-06-23T22:23:39.684827Z",
     "iopub.execute_input": "2021-06-23T22:23:39.685117Z",
     "iopub.status.idle": "2021-06-23T22:23:40.061751Z",
     "shell.execute_reply.started": "2021-06-23T22:23:39.685058Z",
     "shell.execute_reply": "2021-06-23T22:23:40.060595Z"
    },
    "trusted": true
   },
   "execution_count": null,
   "outputs": []
  },
  {
   "cell_type": "code",
   "source": [
    "# Построить гистограмму, показувающее соотношение между столичными и ресторанами других городов, а также рейтингом. \n",
    "figure, axes = plt.subplots(2, 1, figsize=(15, 15))\n",
    "figure.tight_layout(pad=4)\n",
    "\n",
    "# Определить условия в отдельные переменные для удобства.\n",
    "rating_is_5 = data['rating'] == 5\n",
    "good_rating = data['rating'] >= 4\n",
    "is_capital = (data['is_capital'] == 1)\n",
    "conds = [\n",
    "    [is_capital & ~rating_is_5, ~is_capital & ~rating_is_5, is_capital & rating_is_5, ~is_capital & rating_is_5],\n",
    "    [is_capital & good_rating, is_capital & ~good_rating, ~is_capital & good_rating, ~is_capital & ~good_rating]\n",
    "]\n",
    "\n",
    "# Вручную составить по соответсвенному порядку названия графиков на одной гистограмме для удобства понимания.\n",
    "legends = [['столица, рейтинг<5', 'не столица, рейтинг<5', 'столица, рейтинг=5', 'не столица, рейтинг=5'],\n",
    "           ['столица, рейтинг>=4', 'столица, рейтинг<4', 'не столица, рейтинг>=4', 'не столица, рейтинг<4']]\n",
    "\n",
    "# Нарисовать графики\n",
    "for i in range(2):\n",
    "    for cond, clr in zip(conds[i], ['pink', 'orange', 'green', 'purple']):\n",
    "        other_tail = data[cond]['ranking'].plot(kind='hist', legend=True, ax=axes[i], bins=100, color=clr)\n",
    "    other_tail.legend(labels=legends[i])\n"
   ],
   "metadata": {
    "execution": {
     "iopub.status.busy": "2021-06-23T22:23:40.06358Z",
     "iopub.execute_input": "2021-06-23T22:23:40.064225Z",
     "iopub.status.idle": "2021-06-23T22:23:43.262008Z",
     "shell.execute_reply.started": "2021-06-23T22:23:40.064144Z",
     "shell.execute_reply": "2021-06-23T22:23:43.260947Z"
    },
    "trusted": true
   },
   "execution_count": null,
   "outputs": []
  },
  {
   "cell_type": "markdown",
   "source": [
    "# Подготовка"
   ],
   "metadata": {
    "execution": {
     "iopub.status.busy": "2021-05-29T15:37:05.14004Z",
     "iopub.execute_input": "2021-05-29T15:37:05.140358Z",
     "iopub.status.idle": "2021-05-29T15:37:05.144572Z",
     "shell.execute_reply.started": "2021-05-29T15:37:05.140309Z",
     "shell.execute_reply": "2021-05-29T15:37:05.143583Z"
    }
   }
  },
  {
   "cell_type": "code",
   "source": [
    "md = data.select_dtypes('number').drop_duplicates()"
   ],
   "metadata": {
    "execution": {
     "iopub.status.busy": "2021-06-23T22:23:43.263539Z",
     "iopub.execute_input": "2021-06-23T22:23:43.263936Z",
     "iopub.status.idle": "2021-06-23T22:23:43.318992Z",
     "shell.execute_reply.started": "2021-06-23T22:23:43.263834Z",
     "shell.execute_reply": "2021-06-23T22:23:43.318009Z"
    },
    "trusted": true
   },
   "execution_count": null,
   "outputs": []
  },
  {
   "cell_type": "code",
   "source": [
    "md"
   ],
   "metadata": {
    "execution": {
     "iopub.status.busy": "2021-06-23T22:23:43.320656Z",
     "iopub.execute_input": "2021-06-23T22:23:43.321041Z",
     "iopub.status.idle": "2021-06-23T22:23:43.363687Z",
     "shell.execute_reply.started": "2021-06-23T22:23:43.320973Z",
     "shell.execute_reply": "2021-06-23T22:23:43.362993Z"
    },
    "trusted": true
   },
   "execution_count": null,
   "outputs": []
  },
  {
   "cell_type": "code",
   "source": [
    "from sklearn.preprocessing import StandardScaler\n",
    "\n",
    "scaled_md = md\n",
    "scaled_md.info()\n",
    "\n",
    "scaler = StandardScaler()\n",
    "scaled = scaler.fit_transform(scaled_md)\n",
    "scaled_md = pd.DataFrame(scaled)\n",
    "scaled_md.columns = md.columns\n",
    "scaled_md['sample'] = md['sample']\n",
    "scaled_md['rating'] = md['rating']"
   ],
   "metadata": {
    "execution": {
     "iopub.status.busy": "2021-06-23T22:23:43.364992Z",
     "iopub.execute_input": "2021-06-23T22:23:43.365518Z",
     "iopub.status.idle": "2021-06-23T22:23:43.451572Z",
     "shell.execute_reply.started": "2021-06-23T22:23:43.365475Z",
     "shell.execute_reply": "2021-06-23T22:23:43.450876Z"
    },
    "trusted": true
   },
   "execution_count": null,
   "outputs": []
  },
  {
   "cell_type": "code",
   "source": "scaled_md['sample']",
   "metadata": {
    "execution": {
     "iopub.status.busy": "2021-06-23T22:23:43.452629Z",
     "iopub.execute_input": "2021-06-23T22:23:43.452974Z",
     "iopub.status.idle": "2021-06-23T22:23:43.460655Z",
     "shell.execute_reply.started": "2021-06-23T22:23:43.452937Z",
     "shell.execute_reply": "2021-06-23T22:23:43.459118Z"
    },
    "trusted": true
   },
   "execution_count": null,
   "outputs": []
  },
  {
   "cell_type": "code",
   "source": "sns.heatmap(scaled_md.drop(['sample'], axis=1).corr(), )\n",
   "metadata": {
    "execution": {
     "iopub.status.busy": "2021-06-23T22:23:43.462272Z",
     "iopub.execute_input": "2021-06-23T22:23:43.46266Z",
     "iopub.status.idle": "2021-06-23T22:23:44.197284Z",
     "shell.execute_reply.started": "2021-06-23T22:23:43.462573Z",
     "shell.execute_reply": "2021-06-23T22:23:44.196025Z"
    },
    "trusted": true
   },
   "execution_count": null,
   "outputs": []
  },
  {
   "cell_type": "markdown",
   "source": "# Обучение модели",
   "metadata": {}
  },
  {
   "cell_type": "code",
   "source": "data.shape",
   "metadata": {
    "execution": {
     "iopub.status.busy": "2021-06-23T22:23:44.198914Z",
     "iopub.execute_input": "2021-06-23T22:23:44.199332Z",
     "iopub.status.idle": "2021-06-23T22:23:44.20769Z",
     "shell.execute_reply.started": "2021-06-23T22:23:44.19927Z",
     "shell.execute_reply": "2021-06-23T22:23:44.206502Z"
    },
    "trusted": true
   },
   "execution_count": null,
   "outputs": []
  },
  {
   "cell_type": "code",
   "source": "scaled_md.columns",
   "metadata": {
    "execution": {
     "iopub.status.busy": "2021-06-23T22:23:44.209242Z",
     "iopub.execute_input": "2021-06-23T22:23:44.209615Z",
     "iopub.status.idle": "2021-06-23T22:23:44.223323Z",
     "shell.execute_reply.started": "2021-06-23T22:23:44.20956Z",
     "shell.execute_reply": "2021-06-23T22:23:44.222676Z"
    },
    "trusted": true
   },
   "execution_count": null,
   "outputs": []
  },
  {
   "cell_type": "code",
   "source": "def prepare_model_data(md):\n    features = [\n        'ranking',\n        'price_range',\n        'number_of_reviews',\n        'cuisine_style_is_nan',\n        'price_range_is_nan',\n        'number_of_reviews_is_nan',\n        'cuisine_count',\n        'review_ton_1',\n        'review_ton_2',\n        'reviews_days_diff',\n        'population',\n        'coastline',\n        'gdp',\n        'phones',\n        'agriculture',\n        'service',\n        'is_capital',\n        'normalised_rank',\n        'sample',\n        'rating',\n    ]\n\n    result = md[features]\n    to_encode = data['city']\n    result = pd.concat([result, pd.get_dummies(to_encode)], axis=1)\n    result = result.apply(pd.to_numeric, errors='coerce')\n    for i in result.columns:\n        result.fillna(result[i].mean(), inplace=True)\n    return result",
   "metadata": {
    "execution": {
     "iopub.status.busy": "2021-06-23T22:26:50.213825Z",
     "iopub.execute_input": "2021-06-23T22:26:50.214325Z",
     "iopub.status.idle": "2021-06-23T22:26:50.222957Z",
     "shell.execute_reply.started": "2021-06-23T22:26:50.214259Z",
     "shell.execute_reply": "2021-06-23T22:26:50.221863Z"
    },
    "trusted": true
   },
   "execution_count": null,
   "outputs": []
  },
  {
   "cell_type": "markdown",
   "source": "#### Запускаем и проверяем что получилось",
   "metadata": {}
  },
  {
   "cell_type": "code",
   "source": "# Теперь выделим тестовую часть\nscaled_md = prepare_model_data(scaled_md)\ntrain_data = scaled_md.query('sample == 1').drop(['sample'], axis=1)\ntest_data = scaled_md.query('sample == 0').drop(['sample'], axis=1)\n\ny = train_data.rating.values  # наш таргет\nX = train_data.drop(['rating'], axis=1)",
   "metadata": {
    "execution": {
     "iopub.status.busy": "2021-06-23T22:26:53.519983Z",
     "iopub.execute_input": "2021-06-23T22:26:53.520473Z",
     "iopub.status.idle": "2021-06-23T22:26:53.725914Z",
     "shell.execute_reply.started": "2021-06-23T22:26:53.52041Z",
     "shell.execute_reply": "2021-06-23T22:26:53.724975Z"
    },
    "trusted": true
   },
   "execution_count": null,
   "outputs": []
  },
  {
   "cell_type": "markdown",
   "source": "**Перед тем как отправлять наши данные на обучение, разделим данные на еще один тест и трейн, для валидации. \nЭто поможет нам проверить, как хорошо наша модель работает, до отправки submissiona на kaggle.**",
   "metadata": {}
  },
  {
   "cell_type": "code",
   "source": "# Воспользуемся специальной функцие train_test_split для разбивки тестовых данных\n# выделим 20% данных на валидацию (параметр test_size)\nX_train, X_test, y_train, y_test = train_test_split(X, y, test_size=0.2, random_state=RANDOM_SEED)",
   "metadata": {
    "execution": {
     "iopub.status.busy": "2021-06-23T22:27:06.250058Z",
     "iopub.execute_input": "2021-06-23T22:27:06.250445Z",
     "iopub.status.idle": "2021-06-23T22:27:06.272697Z",
     "shell.execute_reply.started": "2021-06-23T22:27:06.250381Z",
     "shell.execute_reply": "2021-06-23T22:27:06.271664Z"
    },
    "trusted": true
   },
   "execution_count": null,
   "outputs": []
  },
  {
   "cell_type": "code",
   "source": "# проверяем\ntest_data.shape, train_data.shape, X.shape, X_train.shape, X_test.shape",
   "metadata": {
    "execution": {
     "iopub.status.busy": "2021-06-23T22:27:11.56682Z",
     "iopub.execute_input": "2021-06-23T22:27:11.567287Z",
     "iopub.status.idle": "2021-06-23T22:27:11.573261Z",
     "shell.execute_reply.started": "2021-06-23T22:27:11.567243Z",
     "shell.execute_reply": "2021-06-23T22:27:11.57233Z"
    },
    "trusted": true
   },
   "execution_count": null,
   "outputs": []
  },
  {
   "cell_type": "markdown",
   "source": "# Model \nСам ML",
   "metadata": {}
  },
  {
   "cell_type": "code",
   "source": "# Импортируем необходимые библиотеки:\nfrom sklearn.ensemble import RandomForestRegressor  # инструмент для создания и обучения модели\nfrom sklearn import metrics  # инструменты для оценки точности модели",
   "metadata": {
    "execution": {
     "iopub.status.busy": "2021-06-23T22:27:15.298048Z",
     "iopub.execute_input": "2021-06-23T22:27:15.298538Z",
     "iopub.status.idle": "2021-06-23T22:27:15.426114Z",
     "shell.execute_reply.started": "2021-06-23T22:27:15.298493Z",
     "shell.execute_reply": "2021-06-23T22:27:15.425369Z"
    },
    "trusted": true
   },
   "execution_count": null,
   "outputs": []
  },
  {
   "cell_type": "code",
   "source": "# Создаём модель (НАСТРОЙКИ НЕ ТРОГАЕМ)\nmodel = RandomForestRegressor(n_estimators=100, verbose=1, n_jobs=-1, random_state=RANDOM_SEED)\n# Обучаем модель на тестовом наборе данных\nmodel.fit(X_train, y_train)\n\n# Используем обученную модель для предсказания рейтинга ресторанов в тестовой выборке.\n# Предсказанные значения записываем в переменную y_pred\ny_pred = model.predict(X_test)",
   "metadata": {
    "execution": {
     "iopub.status.busy": "2021-06-23T22:27:18.48187Z",
     "iopub.execute_input": "2021-06-23T22:27:18.482399Z",
     "iopub.status.idle": "2021-06-23T22:27:29.68867Z",
     "shell.execute_reply.started": "2021-06-23T22:27:18.482351Z",
     "shell.execute_reply": "2021-06-23T22:27:29.68766Z"
    },
    "trusted": true
   },
   "execution_count": null,
   "outputs": []
  },
  {
   "cell_type": "code",
   "source": "# Сравниваем предсказанные значения (y_pred) с реальными (y_test), и смотрим насколько они в среднем отличаются\n# Метрика называется Mean Absolute Error (MAE) и показывает среднее отклонение предсказанных значений от фактических.\nprint('MAE:', metrics.mean_absolute_error(y_test, y_pred))",
   "metadata": {
    "execution": {
     "iopub.status.busy": "2021-06-23T22:27:34.285339Z",
     "iopub.execute_input": "2021-06-23T22:27:34.285652Z",
     "iopub.status.idle": "2021-06-23T22:27:34.291863Z",
     "shell.execute_reply.started": "2021-06-23T22:27:34.285603Z",
     "shell.execute_reply": "2021-06-23T22:27:34.290911Z"
    },
    "trusted": true
   },
   "execution_count": null,
   "outputs": []
  },
  {
   "cell_type": "code",
   "source": "# в RandomForestRegressor есть возможность вывести самые важные признаки для модели\nplt.rcParams['figure.figsize'] = (10, 10)\nfeat_importances = pd.Series(model.feature_importances_, index=X.columns)\nfeat_importances.nlargest(15).plot(kind='barh')",
   "metadata": {
    "execution": {
     "iopub.status.busy": "2021-06-23T22:27:38.975369Z",
     "iopub.execute_input": "2021-06-23T22:27:38.975742Z",
     "iopub.status.idle": "2021-06-23T22:27:39.363747Z",
     "shell.execute_reply.started": "2021-06-23T22:27:38.97568Z",
     "shell.execute_reply": "2021-06-23T22:27:39.362819Z"
    },
    "trusted": true
   },
   "execution_count": null,
   "outputs": []
  },
  {
   "cell_type": "markdown",
   "source": "# Submission\n",
   "metadata": {}
  },
  {
   "cell_type": "code",
   "source": "test_data.sample(10)",
   "metadata": {
    "execution": {
     "iopub.status.busy": "2021-06-23T22:27:46.634456Z",
     "iopub.execute_input": "2021-06-23T22:27:46.634744Z",
     "iopub.status.idle": "2021-06-23T22:27:46.666728Z",
     "shell.execute_reply.started": "2021-06-23T22:27:46.634707Z",
     "shell.execute_reply": "2021-06-23T22:27:46.665539Z"
    },
    "trusted": true
   },
   "execution_count": null,
   "outputs": []
  },
  {
   "cell_type": "code",
   "source": "test_data = test_data.drop(['rating'], axis=1)",
   "metadata": {
    "execution": {
     "iopub.status.busy": "2021-06-23T22:27:55.190737Z",
     "iopub.execute_input": "2021-06-23T22:27:55.19109Z",
     "iopub.status.idle": "2021-06-23T22:27:55.19864Z",
     "shell.execute_reply.started": "2021-06-23T22:27:55.191035Z",
     "shell.execute_reply": "2021-06-23T22:27:55.197386Z"
    },
    "trusted": true
   },
   "execution_count": null,
   "outputs": []
  },
  {
   "cell_type": "code",
   "source": "predict_submission = model.predict(test_data)",
   "metadata": {
    "execution": {
     "iopub.status.busy": "2021-06-23T22:27:58.542685Z",
     "iopub.execute_input": "2021-06-23T22:27:58.543004Z",
     "iopub.status.idle": "2021-06-23T22:27:58.655005Z",
     "shell.execute_reply.started": "2021-06-23T22:27:58.542956Z",
     "shell.execute_reply": "2021-06-23T22:27:58.654077Z"
    },
    "trusted": true
   },
   "execution_count": null,
   "outputs": []
  },
  {
   "cell_type": "code",
   "source": "predict_submission",
   "metadata": {
    "execution": {
     "iopub.status.busy": "2021-06-23T22:28:02.46137Z",
     "iopub.execute_input": "2021-06-23T22:28:02.461673Z",
     "iopub.status.idle": "2021-06-23T22:28:02.468727Z",
     "shell.execute_reply.started": "2021-06-23T22:28:02.461635Z",
     "shell.execute_reply": "2021-06-23T22:28:02.467434Z"
    },
    "trusted": true
   },
   "execution_count": null,
   "outputs": []
  },
  {
   "cell_type": "code",
   "source": "sample_submission['rating'] = predict_submission\nsample_submission.columns = ['Restaurant_id', 'Rating']\nsample_submission.to_csv('./submission.csv', index=False)\nsample_submission.head(10)",
   "metadata": {
    "execution": {
     "iopub.status.busy": "2021-06-23T22:32:54.96753Z",
     "iopub.execute_input": "2021-06-23T22:32:54.968101Z",
     "iopub.status.idle": "2021-06-23T22:32:55.027414Z",
     "shell.execute_reply.started": "2021-06-23T22:32:54.968054Z",
     "shell.execute_reply": "2021-06-23T22:32:55.026722Z"
    },
    "trusted": true
   },
   "execution_count": null,
   "outputs": []
  }
 ]
}